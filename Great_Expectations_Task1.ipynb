{
  "nbformat": 4,
  "nbformat_minor": 0,
  "metadata": {
    "colab": {
      "provenance": [],
      "collapsed_sections": [
        "avoP4JPNrRpC",
        "9R147FfXJG4F",
        "fWSO9h40JZjg",
        "Fdt5KucDJu-h"
      ]
    },
    "kernelspec": {
      "name": "python3",
      "display_name": "Python 3"
    },
    "language_info": {
      "name": "python"
    },
    "widgets": {
      "application/vnd.jupyter.widget-state+json": {
        "944875c9bcd24d96a7d79a7e7b6f27d7": {
          "model_module": "@jupyter-widgets/controls",
          "model_name": "HBoxModel",
          "model_module_version": "1.5.0",
          "state": {
            "_dom_classes": [],
            "_model_module": "@jupyter-widgets/controls",
            "_model_module_version": "1.5.0",
            "_model_name": "HBoxModel",
            "_view_count": null,
            "_view_module": "@jupyter-widgets/controls",
            "_view_module_version": "1.5.0",
            "_view_name": "HBoxView",
            "box_style": "",
            "children": [
              "IPY_MODEL_fdb48c2325d449948480927a9da6b450",
              "IPY_MODEL_aa48467f1cc5423f807e5d6e2393ec4d",
              "IPY_MODEL_aac379f1e22f41fb99f3907bbd8a95fd"
            ],
            "layout": "IPY_MODEL_90233ed5fd544405a121895a878a9430"
          }
        },
        "fdb48c2325d449948480927a9da6b450": {
          "model_module": "@jupyter-widgets/controls",
          "model_name": "HTMLModel",
          "model_module_version": "1.5.0",
          "state": {
            "_dom_classes": [],
            "_model_module": "@jupyter-widgets/controls",
            "_model_module_version": "1.5.0",
            "_model_name": "HTMLModel",
            "_view_count": null,
            "_view_module": "@jupyter-widgets/controls",
            "_view_module_version": "1.5.0",
            "_view_name": "HTMLView",
            "description": "",
            "description_tooltip": null,
            "layout": "IPY_MODEL_2e31b46b11324babb8b7bba2268cd1a7",
            "placeholder": "​",
            "style": "IPY_MODEL_7fccf85fd55a4ccab4c9a6e7dc0a3803",
            "value": "Calculating Metrics:  38%"
          }
        },
        "aa48467f1cc5423f807e5d6e2393ec4d": {
          "model_module": "@jupyter-widgets/controls",
          "model_name": "FloatProgressModel",
          "model_module_version": "1.5.0",
          "state": {
            "_dom_classes": [],
            "_model_module": "@jupyter-widgets/controls",
            "_model_module_version": "1.5.0",
            "_model_name": "FloatProgressModel",
            "_view_count": null,
            "_view_module": "@jupyter-widgets/controls",
            "_view_module_version": "1.5.0",
            "_view_name": "ProgressView",
            "bar_style": "danger",
            "description": "",
            "description_tooltip": null,
            "layout": "IPY_MODEL_a987c8ada8b34d708c8caaae4b07b608",
            "max": 8,
            "min": 0,
            "orientation": "horizontal",
            "style": "IPY_MODEL_04a4a3c1eccf48119e8f98e89d61d63f",
            "value": 3
          }
        },
        "aac379f1e22f41fb99f3907bbd8a95fd": {
          "model_module": "@jupyter-widgets/controls",
          "model_name": "HTMLModel",
          "model_module_version": "1.5.0",
          "state": {
            "_dom_classes": [],
            "_model_module": "@jupyter-widgets/controls",
            "_model_module_version": "1.5.0",
            "_model_name": "HTMLModel",
            "_view_count": null,
            "_view_module": "@jupyter-widgets/controls",
            "_view_module_version": "1.5.0",
            "_view_name": "HTMLView",
            "description": "",
            "description_tooltip": null,
            "layout": "IPY_MODEL_8f88c2fccd1c4b8bb6e0ba869109cd99",
            "placeholder": "​",
            "style": "IPY_MODEL_96948e246e0541c281a44532370d6e17",
            "value": " 3/8 [00:00&lt;00:00, 68.15it/s]"
          }
        },
        "90233ed5fd544405a121895a878a9430": {
          "model_module": "@jupyter-widgets/base",
          "model_name": "LayoutModel",
          "model_module_version": "1.2.0",
          "state": {
            "_model_module": "@jupyter-widgets/base",
            "_model_module_version": "1.2.0",
            "_model_name": "LayoutModel",
            "_view_count": null,
            "_view_module": "@jupyter-widgets/base",
            "_view_module_version": "1.2.0",
            "_view_name": "LayoutView",
            "align_content": null,
            "align_items": null,
            "align_self": null,
            "border": null,
            "bottom": null,
            "display": null,
            "flex": null,
            "flex_flow": null,
            "grid_area": null,
            "grid_auto_columns": null,
            "grid_auto_flow": null,
            "grid_auto_rows": null,
            "grid_column": null,
            "grid_gap": null,
            "grid_row": null,
            "grid_template_areas": null,
            "grid_template_columns": null,
            "grid_template_rows": null,
            "height": null,
            "justify_content": null,
            "justify_items": null,
            "left": null,
            "margin": null,
            "max_height": null,
            "max_width": null,
            "min_height": null,
            "min_width": null,
            "object_fit": null,
            "object_position": null,
            "order": null,
            "overflow": null,
            "overflow_x": null,
            "overflow_y": null,
            "padding": null,
            "right": null,
            "top": null,
            "visibility": null,
            "width": null
          }
        },
        "2e31b46b11324babb8b7bba2268cd1a7": {
          "model_module": "@jupyter-widgets/base",
          "model_name": "LayoutModel",
          "model_module_version": "1.2.0",
          "state": {
            "_model_module": "@jupyter-widgets/base",
            "_model_module_version": "1.2.0",
            "_model_name": "LayoutModel",
            "_view_count": null,
            "_view_module": "@jupyter-widgets/base",
            "_view_module_version": "1.2.0",
            "_view_name": "LayoutView",
            "align_content": null,
            "align_items": null,
            "align_self": null,
            "border": null,
            "bottom": null,
            "display": null,
            "flex": null,
            "flex_flow": null,
            "grid_area": null,
            "grid_auto_columns": null,
            "grid_auto_flow": null,
            "grid_auto_rows": null,
            "grid_column": null,
            "grid_gap": null,
            "grid_row": null,
            "grid_template_areas": null,
            "grid_template_columns": null,
            "grid_template_rows": null,
            "height": null,
            "justify_content": null,
            "justify_items": null,
            "left": null,
            "margin": null,
            "max_height": null,
            "max_width": null,
            "min_height": null,
            "min_width": null,
            "object_fit": null,
            "object_position": null,
            "order": null,
            "overflow": null,
            "overflow_x": null,
            "overflow_y": null,
            "padding": null,
            "right": null,
            "top": null,
            "visibility": null,
            "width": null
          }
        },
        "7fccf85fd55a4ccab4c9a6e7dc0a3803": {
          "model_module": "@jupyter-widgets/controls",
          "model_name": "DescriptionStyleModel",
          "model_module_version": "1.5.0",
          "state": {
            "_model_module": "@jupyter-widgets/controls",
            "_model_module_version": "1.5.0",
            "_model_name": "DescriptionStyleModel",
            "_view_count": null,
            "_view_module": "@jupyter-widgets/base",
            "_view_module_version": "1.2.0",
            "_view_name": "StyleView",
            "description_width": ""
          }
        },
        "a987c8ada8b34d708c8caaae4b07b608": {
          "model_module": "@jupyter-widgets/base",
          "model_name": "LayoutModel",
          "model_module_version": "1.2.0",
          "state": {
            "_model_module": "@jupyter-widgets/base",
            "_model_module_version": "1.2.0",
            "_model_name": "LayoutModel",
            "_view_count": null,
            "_view_module": "@jupyter-widgets/base",
            "_view_module_version": "1.2.0",
            "_view_name": "LayoutView",
            "align_content": null,
            "align_items": null,
            "align_self": null,
            "border": null,
            "bottom": null,
            "display": null,
            "flex": null,
            "flex_flow": null,
            "grid_area": null,
            "grid_auto_columns": null,
            "grid_auto_flow": null,
            "grid_auto_rows": null,
            "grid_column": null,
            "grid_gap": null,
            "grid_row": null,
            "grid_template_areas": null,
            "grid_template_columns": null,
            "grid_template_rows": null,
            "height": null,
            "justify_content": null,
            "justify_items": null,
            "left": null,
            "margin": null,
            "max_height": null,
            "max_width": null,
            "min_height": null,
            "min_width": null,
            "object_fit": null,
            "object_position": null,
            "order": null,
            "overflow": null,
            "overflow_x": null,
            "overflow_y": null,
            "padding": null,
            "right": null,
            "top": null,
            "visibility": null,
            "width": null
          }
        },
        "04a4a3c1eccf48119e8f98e89d61d63f": {
          "model_module": "@jupyter-widgets/controls",
          "model_name": "ProgressStyleModel",
          "model_module_version": "1.5.0",
          "state": {
            "_model_module": "@jupyter-widgets/controls",
            "_model_module_version": "1.5.0",
            "_model_name": "ProgressStyleModel",
            "_view_count": null,
            "_view_module": "@jupyter-widgets/base",
            "_view_module_version": "1.2.0",
            "_view_name": "StyleView",
            "bar_color": null,
            "description_width": ""
          }
        },
        "8f88c2fccd1c4b8bb6e0ba869109cd99": {
          "model_module": "@jupyter-widgets/base",
          "model_name": "LayoutModel",
          "model_module_version": "1.2.0",
          "state": {
            "_model_module": "@jupyter-widgets/base",
            "_model_module_version": "1.2.0",
            "_model_name": "LayoutModel",
            "_view_count": null,
            "_view_module": "@jupyter-widgets/base",
            "_view_module_version": "1.2.0",
            "_view_name": "LayoutView",
            "align_content": null,
            "align_items": null,
            "align_self": null,
            "border": null,
            "bottom": null,
            "display": null,
            "flex": null,
            "flex_flow": null,
            "grid_area": null,
            "grid_auto_columns": null,
            "grid_auto_flow": null,
            "grid_auto_rows": null,
            "grid_column": null,
            "grid_gap": null,
            "grid_row": null,
            "grid_template_areas": null,
            "grid_template_columns": null,
            "grid_template_rows": null,
            "height": null,
            "justify_content": null,
            "justify_items": null,
            "left": null,
            "margin": null,
            "max_height": null,
            "max_width": null,
            "min_height": null,
            "min_width": null,
            "object_fit": null,
            "object_position": null,
            "order": null,
            "overflow": null,
            "overflow_x": null,
            "overflow_y": null,
            "padding": null,
            "right": null,
            "top": null,
            "visibility": null,
            "width": null
          }
        },
        "96948e246e0541c281a44532370d6e17": {
          "model_module": "@jupyter-widgets/controls",
          "model_name": "DescriptionStyleModel",
          "model_module_version": "1.5.0",
          "state": {
            "_model_module": "@jupyter-widgets/controls",
            "_model_module_version": "1.5.0",
            "_model_name": "DescriptionStyleModel",
            "_view_count": null,
            "_view_module": "@jupyter-widgets/base",
            "_view_module_version": "1.2.0",
            "_view_name": "StyleView",
            "description_width": ""
          }
        },
        "719fd37378334d11aa349fb468315b15": {
          "model_module": "@jupyter-widgets/controls",
          "model_name": "HBoxModel",
          "model_module_version": "1.5.0",
          "state": {
            "_dom_classes": [],
            "_model_module": "@jupyter-widgets/controls",
            "_model_module_version": "1.5.0",
            "_model_name": "HBoxModel",
            "_view_count": null,
            "_view_module": "@jupyter-widgets/controls",
            "_view_module_version": "1.5.0",
            "_view_name": "HBoxView",
            "box_style": "",
            "children": [
              "IPY_MODEL_1e4931ef6d8a4862aa794f3f36153d8d",
              "IPY_MODEL_5e86e24798c24ec6a4b10d73787dd12d",
              "IPY_MODEL_fe029c0248a64d36a6dee8f93a7d096a"
            ],
            "layout": "IPY_MODEL_37c1112e9cff42d9bf5dec9720da205d"
          }
        },
        "1e4931ef6d8a4862aa794f3f36153d8d": {
          "model_module": "@jupyter-widgets/controls",
          "model_name": "HTMLModel",
          "model_module_version": "1.5.0",
          "state": {
            "_dom_classes": [],
            "_model_module": "@jupyter-widgets/controls",
            "_model_module_version": "1.5.0",
            "_model_name": "HTMLModel",
            "_view_count": null,
            "_view_module": "@jupyter-widgets/controls",
            "_view_module_version": "1.5.0",
            "_view_name": "HTMLView",
            "description": "",
            "description_tooltip": null,
            "layout": "IPY_MODEL_16132ddcc476457393486868228583ad",
            "placeholder": "​",
            "style": "IPY_MODEL_ad6df4e9f1e4472a96ec2436055da414",
            "value": "Calculating Metrics:  30%"
          }
        },
        "5e86e24798c24ec6a4b10d73787dd12d": {
          "model_module": "@jupyter-widgets/controls",
          "model_name": "FloatProgressModel",
          "model_module_version": "1.5.0",
          "state": {
            "_dom_classes": [],
            "_model_module": "@jupyter-widgets/controls",
            "_model_module_version": "1.5.0",
            "_model_name": "FloatProgressModel",
            "_view_count": null,
            "_view_module": "@jupyter-widgets/controls",
            "_view_module_version": "1.5.0",
            "_view_name": "ProgressView",
            "bar_style": "danger",
            "description": "",
            "description_tooltip": null,
            "layout": "IPY_MODEL_ac2f178e214b4c3da65be43e100a1380",
            "max": 10,
            "min": 0,
            "orientation": "horizontal",
            "style": "IPY_MODEL_ea35d106bc634df0a8afe71a21cca4d9",
            "value": 3
          }
        },
        "fe029c0248a64d36a6dee8f93a7d096a": {
          "model_module": "@jupyter-widgets/controls",
          "model_name": "HTMLModel",
          "model_module_version": "1.5.0",
          "state": {
            "_dom_classes": [],
            "_model_module": "@jupyter-widgets/controls",
            "_model_module_version": "1.5.0",
            "_model_name": "HTMLModel",
            "_view_count": null,
            "_view_module": "@jupyter-widgets/controls",
            "_view_module_version": "1.5.0",
            "_view_name": "HTMLView",
            "description": "",
            "description_tooltip": null,
            "layout": "IPY_MODEL_de4a83f3fcf44cd5bf5332e7775ada0a",
            "placeholder": "​",
            "style": "IPY_MODEL_d37634bb6cec4dba89b836f70e6112f3",
            "value": " 3/10 [00:00&lt;00:00, 71.33it/s]"
          }
        },
        "37c1112e9cff42d9bf5dec9720da205d": {
          "model_module": "@jupyter-widgets/base",
          "model_name": "LayoutModel",
          "model_module_version": "1.2.0",
          "state": {
            "_model_module": "@jupyter-widgets/base",
            "_model_module_version": "1.2.0",
            "_model_name": "LayoutModel",
            "_view_count": null,
            "_view_module": "@jupyter-widgets/base",
            "_view_module_version": "1.2.0",
            "_view_name": "LayoutView",
            "align_content": null,
            "align_items": null,
            "align_self": null,
            "border": null,
            "bottom": null,
            "display": null,
            "flex": null,
            "flex_flow": null,
            "grid_area": null,
            "grid_auto_columns": null,
            "grid_auto_flow": null,
            "grid_auto_rows": null,
            "grid_column": null,
            "grid_gap": null,
            "grid_row": null,
            "grid_template_areas": null,
            "grid_template_columns": null,
            "grid_template_rows": null,
            "height": null,
            "justify_content": null,
            "justify_items": null,
            "left": null,
            "margin": null,
            "max_height": null,
            "max_width": null,
            "min_height": null,
            "min_width": null,
            "object_fit": null,
            "object_position": null,
            "order": null,
            "overflow": null,
            "overflow_x": null,
            "overflow_y": null,
            "padding": null,
            "right": null,
            "top": null,
            "visibility": null,
            "width": null
          }
        },
        "16132ddcc476457393486868228583ad": {
          "model_module": "@jupyter-widgets/base",
          "model_name": "LayoutModel",
          "model_module_version": "1.2.0",
          "state": {
            "_model_module": "@jupyter-widgets/base",
            "_model_module_version": "1.2.0",
            "_model_name": "LayoutModel",
            "_view_count": null,
            "_view_module": "@jupyter-widgets/base",
            "_view_module_version": "1.2.0",
            "_view_name": "LayoutView",
            "align_content": null,
            "align_items": null,
            "align_self": null,
            "border": null,
            "bottom": null,
            "display": null,
            "flex": null,
            "flex_flow": null,
            "grid_area": null,
            "grid_auto_columns": null,
            "grid_auto_flow": null,
            "grid_auto_rows": null,
            "grid_column": null,
            "grid_gap": null,
            "grid_row": null,
            "grid_template_areas": null,
            "grid_template_columns": null,
            "grid_template_rows": null,
            "height": null,
            "justify_content": null,
            "justify_items": null,
            "left": null,
            "margin": null,
            "max_height": null,
            "max_width": null,
            "min_height": null,
            "min_width": null,
            "object_fit": null,
            "object_position": null,
            "order": null,
            "overflow": null,
            "overflow_x": null,
            "overflow_y": null,
            "padding": null,
            "right": null,
            "top": null,
            "visibility": null,
            "width": null
          }
        },
        "ad6df4e9f1e4472a96ec2436055da414": {
          "model_module": "@jupyter-widgets/controls",
          "model_name": "DescriptionStyleModel",
          "model_module_version": "1.5.0",
          "state": {
            "_model_module": "@jupyter-widgets/controls",
            "_model_module_version": "1.5.0",
            "_model_name": "DescriptionStyleModel",
            "_view_count": null,
            "_view_module": "@jupyter-widgets/base",
            "_view_module_version": "1.2.0",
            "_view_name": "StyleView",
            "description_width": ""
          }
        },
        "ac2f178e214b4c3da65be43e100a1380": {
          "model_module": "@jupyter-widgets/base",
          "model_name": "LayoutModel",
          "model_module_version": "1.2.0",
          "state": {
            "_model_module": "@jupyter-widgets/base",
            "_model_module_version": "1.2.0",
            "_model_name": "LayoutModel",
            "_view_count": null,
            "_view_module": "@jupyter-widgets/base",
            "_view_module_version": "1.2.0",
            "_view_name": "LayoutView",
            "align_content": null,
            "align_items": null,
            "align_self": null,
            "border": null,
            "bottom": null,
            "display": null,
            "flex": null,
            "flex_flow": null,
            "grid_area": null,
            "grid_auto_columns": null,
            "grid_auto_flow": null,
            "grid_auto_rows": null,
            "grid_column": null,
            "grid_gap": null,
            "grid_row": null,
            "grid_template_areas": null,
            "grid_template_columns": null,
            "grid_template_rows": null,
            "height": null,
            "justify_content": null,
            "justify_items": null,
            "left": null,
            "margin": null,
            "max_height": null,
            "max_width": null,
            "min_height": null,
            "min_width": null,
            "object_fit": null,
            "object_position": null,
            "order": null,
            "overflow": null,
            "overflow_x": null,
            "overflow_y": null,
            "padding": null,
            "right": null,
            "top": null,
            "visibility": null,
            "width": null
          }
        },
        "ea35d106bc634df0a8afe71a21cca4d9": {
          "model_module": "@jupyter-widgets/controls",
          "model_name": "ProgressStyleModel",
          "model_module_version": "1.5.0",
          "state": {
            "_model_module": "@jupyter-widgets/controls",
            "_model_module_version": "1.5.0",
            "_model_name": "ProgressStyleModel",
            "_view_count": null,
            "_view_module": "@jupyter-widgets/base",
            "_view_module_version": "1.2.0",
            "_view_name": "StyleView",
            "bar_color": null,
            "description_width": ""
          }
        },
        "de4a83f3fcf44cd5bf5332e7775ada0a": {
          "model_module": "@jupyter-widgets/base",
          "model_name": "LayoutModel",
          "model_module_version": "1.2.0",
          "state": {
            "_model_module": "@jupyter-widgets/base",
            "_model_module_version": "1.2.0",
            "_model_name": "LayoutModel",
            "_view_count": null,
            "_view_module": "@jupyter-widgets/base",
            "_view_module_version": "1.2.0",
            "_view_name": "LayoutView",
            "align_content": null,
            "align_items": null,
            "align_self": null,
            "border": null,
            "bottom": null,
            "display": null,
            "flex": null,
            "flex_flow": null,
            "grid_area": null,
            "grid_auto_columns": null,
            "grid_auto_flow": null,
            "grid_auto_rows": null,
            "grid_column": null,
            "grid_gap": null,
            "grid_row": null,
            "grid_template_areas": null,
            "grid_template_columns": null,
            "grid_template_rows": null,
            "height": null,
            "justify_content": null,
            "justify_items": null,
            "left": null,
            "margin": null,
            "max_height": null,
            "max_width": null,
            "min_height": null,
            "min_width": null,
            "object_fit": null,
            "object_position": null,
            "order": null,
            "overflow": null,
            "overflow_x": null,
            "overflow_y": null,
            "padding": null,
            "right": null,
            "top": null,
            "visibility": null,
            "width": null
          }
        },
        "d37634bb6cec4dba89b836f70e6112f3": {
          "model_module": "@jupyter-widgets/controls",
          "model_name": "DescriptionStyleModel",
          "model_module_version": "1.5.0",
          "state": {
            "_model_module": "@jupyter-widgets/controls",
            "_model_module_version": "1.5.0",
            "_model_name": "DescriptionStyleModel",
            "_view_count": null,
            "_view_module": "@jupyter-widgets/base",
            "_view_module_version": "1.2.0",
            "_view_name": "StyleView",
            "description_width": ""
          }
        },
        "0e0cb89c9f3f43d98ab0e3521769bbb7": {
          "model_module": "@jupyter-widgets/controls",
          "model_name": "HBoxModel",
          "model_module_version": "1.5.0",
          "state": {
            "_dom_classes": [],
            "_model_module": "@jupyter-widgets/controls",
            "_model_module_version": "1.5.0",
            "_model_name": "HBoxModel",
            "_view_count": null,
            "_view_module": "@jupyter-widgets/controls",
            "_view_module_version": "1.5.0",
            "_view_name": "HBoxView",
            "box_style": "",
            "children": [
              "IPY_MODEL_57c125b9d3e64c40b65657eb8cfb2987",
              "IPY_MODEL_b0275bce4677421bab9f13f4047e48df",
              "IPY_MODEL_217bc43715e349ae88bfab14b37530c8"
            ],
            "layout": "IPY_MODEL_0896b41e1e6d454ab748dbc75f14bd32"
          }
        },
        "57c125b9d3e64c40b65657eb8cfb2987": {
          "model_module": "@jupyter-widgets/controls",
          "model_name": "HTMLModel",
          "model_module_version": "1.5.0",
          "state": {
            "_dom_classes": [],
            "_model_module": "@jupyter-widgets/controls",
            "_model_module_version": "1.5.0",
            "_model_name": "HTMLModel",
            "_view_count": null,
            "_view_module": "@jupyter-widgets/controls",
            "_view_module_version": "1.5.0",
            "_view_name": "HTMLView",
            "description": "",
            "description_tooltip": null,
            "layout": "IPY_MODEL_4c5803f3bbef409bb41d49cd57dd8ad1",
            "placeholder": "​",
            "style": "IPY_MODEL_994fcacd0a1b4b428ea1d9fcfb819a2e",
            "value": "Calculating Metrics:  30%"
          }
        },
        "b0275bce4677421bab9f13f4047e48df": {
          "model_module": "@jupyter-widgets/controls",
          "model_name": "FloatProgressModel",
          "model_module_version": "1.5.0",
          "state": {
            "_dom_classes": [],
            "_model_module": "@jupyter-widgets/controls",
            "_model_module_version": "1.5.0",
            "_model_name": "FloatProgressModel",
            "_view_count": null,
            "_view_module": "@jupyter-widgets/controls",
            "_view_module_version": "1.5.0",
            "_view_name": "ProgressView",
            "bar_style": "danger",
            "description": "",
            "description_tooltip": null,
            "layout": "IPY_MODEL_2199d684f47d44fdb5cf30968597b8b9",
            "max": 10,
            "min": 0,
            "orientation": "horizontal",
            "style": "IPY_MODEL_5bc5dc951e5640f1a2e8acef6ff6a966",
            "value": 3
          }
        },
        "217bc43715e349ae88bfab14b37530c8": {
          "model_module": "@jupyter-widgets/controls",
          "model_name": "HTMLModel",
          "model_module_version": "1.5.0",
          "state": {
            "_dom_classes": [],
            "_model_module": "@jupyter-widgets/controls",
            "_model_module_version": "1.5.0",
            "_model_name": "HTMLModel",
            "_view_count": null,
            "_view_module": "@jupyter-widgets/controls",
            "_view_module_version": "1.5.0",
            "_view_name": "HTMLView",
            "description": "",
            "description_tooltip": null,
            "layout": "IPY_MODEL_644da679fabe4b8595cf54b71c4fc2a4",
            "placeholder": "​",
            "style": "IPY_MODEL_1933ccf64bcb4951a5499bce221a79ee",
            "value": " 3/10 [00:00&lt;00:00, 19.03it/s]"
          }
        },
        "0896b41e1e6d454ab748dbc75f14bd32": {
          "model_module": "@jupyter-widgets/base",
          "model_name": "LayoutModel",
          "model_module_version": "1.2.0",
          "state": {
            "_model_module": "@jupyter-widgets/base",
            "_model_module_version": "1.2.0",
            "_model_name": "LayoutModel",
            "_view_count": null,
            "_view_module": "@jupyter-widgets/base",
            "_view_module_version": "1.2.0",
            "_view_name": "LayoutView",
            "align_content": null,
            "align_items": null,
            "align_self": null,
            "border": null,
            "bottom": null,
            "display": null,
            "flex": null,
            "flex_flow": null,
            "grid_area": null,
            "grid_auto_columns": null,
            "grid_auto_flow": null,
            "grid_auto_rows": null,
            "grid_column": null,
            "grid_gap": null,
            "grid_row": null,
            "grid_template_areas": null,
            "grid_template_columns": null,
            "grid_template_rows": null,
            "height": null,
            "justify_content": null,
            "justify_items": null,
            "left": null,
            "margin": null,
            "max_height": null,
            "max_width": null,
            "min_height": null,
            "min_width": null,
            "object_fit": null,
            "object_position": null,
            "order": null,
            "overflow": null,
            "overflow_x": null,
            "overflow_y": null,
            "padding": null,
            "right": null,
            "top": null,
            "visibility": null,
            "width": null
          }
        },
        "4c5803f3bbef409bb41d49cd57dd8ad1": {
          "model_module": "@jupyter-widgets/base",
          "model_name": "LayoutModel",
          "model_module_version": "1.2.0",
          "state": {
            "_model_module": "@jupyter-widgets/base",
            "_model_module_version": "1.2.0",
            "_model_name": "LayoutModel",
            "_view_count": null,
            "_view_module": "@jupyter-widgets/base",
            "_view_module_version": "1.2.0",
            "_view_name": "LayoutView",
            "align_content": null,
            "align_items": null,
            "align_self": null,
            "border": null,
            "bottom": null,
            "display": null,
            "flex": null,
            "flex_flow": null,
            "grid_area": null,
            "grid_auto_columns": null,
            "grid_auto_flow": null,
            "grid_auto_rows": null,
            "grid_column": null,
            "grid_gap": null,
            "grid_row": null,
            "grid_template_areas": null,
            "grid_template_columns": null,
            "grid_template_rows": null,
            "height": null,
            "justify_content": null,
            "justify_items": null,
            "left": null,
            "margin": null,
            "max_height": null,
            "max_width": null,
            "min_height": null,
            "min_width": null,
            "object_fit": null,
            "object_position": null,
            "order": null,
            "overflow": null,
            "overflow_x": null,
            "overflow_y": null,
            "padding": null,
            "right": null,
            "top": null,
            "visibility": null,
            "width": null
          }
        },
        "994fcacd0a1b4b428ea1d9fcfb819a2e": {
          "model_module": "@jupyter-widgets/controls",
          "model_name": "DescriptionStyleModel",
          "model_module_version": "1.5.0",
          "state": {
            "_model_module": "@jupyter-widgets/controls",
            "_model_module_version": "1.5.0",
            "_model_name": "DescriptionStyleModel",
            "_view_count": null,
            "_view_module": "@jupyter-widgets/base",
            "_view_module_version": "1.2.0",
            "_view_name": "StyleView",
            "description_width": ""
          }
        },
        "2199d684f47d44fdb5cf30968597b8b9": {
          "model_module": "@jupyter-widgets/base",
          "model_name": "LayoutModel",
          "model_module_version": "1.2.0",
          "state": {
            "_model_module": "@jupyter-widgets/base",
            "_model_module_version": "1.2.0",
            "_model_name": "LayoutModel",
            "_view_count": null,
            "_view_module": "@jupyter-widgets/base",
            "_view_module_version": "1.2.0",
            "_view_name": "LayoutView",
            "align_content": null,
            "align_items": null,
            "align_self": null,
            "border": null,
            "bottom": null,
            "display": null,
            "flex": null,
            "flex_flow": null,
            "grid_area": null,
            "grid_auto_columns": null,
            "grid_auto_flow": null,
            "grid_auto_rows": null,
            "grid_column": null,
            "grid_gap": null,
            "grid_row": null,
            "grid_template_areas": null,
            "grid_template_columns": null,
            "grid_template_rows": null,
            "height": null,
            "justify_content": null,
            "justify_items": null,
            "left": null,
            "margin": null,
            "max_height": null,
            "max_width": null,
            "min_height": null,
            "min_width": null,
            "object_fit": null,
            "object_position": null,
            "order": null,
            "overflow": null,
            "overflow_x": null,
            "overflow_y": null,
            "padding": null,
            "right": null,
            "top": null,
            "visibility": null,
            "width": null
          }
        },
        "5bc5dc951e5640f1a2e8acef6ff6a966": {
          "model_module": "@jupyter-widgets/controls",
          "model_name": "ProgressStyleModel",
          "model_module_version": "1.5.0",
          "state": {
            "_model_module": "@jupyter-widgets/controls",
            "_model_module_version": "1.5.0",
            "_model_name": "ProgressStyleModel",
            "_view_count": null,
            "_view_module": "@jupyter-widgets/base",
            "_view_module_version": "1.2.0",
            "_view_name": "StyleView",
            "bar_color": null,
            "description_width": ""
          }
        },
        "644da679fabe4b8595cf54b71c4fc2a4": {
          "model_module": "@jupyter-widgets/base",
          "model_name": "LayoutModel",
          "model_module_version": "1.2.0",
          "state": {
            "_model_module": "@jupyter-widgets/base",
            "_model_module_version": "1.2.0",
            "_model_name": "LayoutModel",
            "_view_count": null,
            "_view_module": "@jupyter-widgets/base",
            "_view_module_version": "1.2.0",
            "_view_name": "LayoutView",
            "align_content": null,
            "align_items": null,
            "align_self": null,
            "border": null,
            "bottom": null,
            "display": null,
            "flex": null,
            "flex_flow": null,
            "grid_area": null,
            "grid_auto_columns": null,
            "grid_auto_flow": null,
            "grid_auto_rows": null,
            "grid_column": null,
            "grid_gap": null,
            "grid_row": null,
            "grid_template_areas": null,
            "grid_template_columns": null,
            "grid_template_rows": null,
            "height": null,
            "justify_content": null,
            "justify_items": null,
            "left": null,
            "margin": null,
            "max_height": null,
            "max_width": null,
            "min_height": null,
            "min_width": null,
            "object_fit": null,
            "object_position": null,
            "order": null,
            "overflow": null,
            "overflow_x": null,
            "overflow_y": null,
            "padding": null,
            "right": null,
            "top": null,
            "visibility": null,
            "width": null
          }
        },
        "1933ccf64bcb4951a5499bce221a79ee": {
          "model_module": "@jupyter-widgets/controls",
          "model_name": "DescriptionStyleModel",
          "model_module_version": "1.5.0",
          "state": {
            "_model_module": "@jupyter-widgets/controls",
            "_model_module_version": "1.5.0",
            "_model_name": "DescriptionStyleModel",
            "_view_count": null,
            "_view_module": "@jupyter-widgets/base",
            "_view_module_version": "1.2.0",
            "_view_name": "StyleView",
            "description_width": ""
          }
        }
      }
    }
  },
  "cells": [
    {
      "cell_type": "markdown",
      "source": [
        "# Great Expectations Task"
      ],
      "metadata": {
        "id": "S0KvgYslI64f"
      }
    },
    {
      "cell_type": "markdown",
      "source": [
        "##0. Clean Up"
      ],
      "metadata": {
        "id": "avoP4JPNrRpC"
      }
    },
    {
      "cell_type": "code",
      "source": [
        "!pip uninstall -y numpy pandas great_expectations\n"
      ],
      "metadata": {
        "colab": {
          "base_uri": "https://localhost:8080/"
        },
        "id": "w5k64FWOrNB9",
        "outputId": "41e23a4c-bd8d-4034-d5a9-2066aa084372"
      },
      "execution_count": null,
      "outputs": [
        {
          "output_type": "stream",
          "name": "stdout",
          "text": [
            "Found existing installation: numpy 1.26.4\n",
            "Uninstalling numpy-1.26.4:\n",
            "  Successfully uninstalled numpy-1.26.4\n",
            "Found existing installation: pandas 2.1.4\n",
            "Uninstalling pandas-2.1.4:\n",
            "  Successfully uninstalled pandas-2.1.4\n",
            "Found existing installation: great-expectations 1.3.12\n",
            "Uninstalling great-expectations-1.3.12:\n",
            "  Successfully uninstalled great-expectations-1.3.12\n"
          ]
        }
      ]
    },
    {
      "cell_type": "code",
      "source": [
        "!rm -rf /usr/local/lib/python3.11/dist-packages/numpy*\n",
        "!rm -rf /usr/local/lib/python3.11/dist-packages/pandas*"
      ],
      "metadata": {
        "id": "-IK-L89atb0u"
      },
      "execution_count": null,
      "outputs": []
    },
    {
      "cell_type": "markdown",
      "source": [
        "## 1. Install Great Expectations Library\n"
      ],
      "metadata": {
        "id": "9R147FfXJG4F"
      }
    },
    {
      "cell_type": "code",
      "execution_count": null,
      "metadata": {
        "id": "TGqDcWNh3Y_-",
        "collapsed": true,
        "colab": {
          "base_uri": "https://localhost:8080/"
        },
        "outputId": "fa65eecb-51be-418b-af99-4961cd882e2d"
      },
      "outputs": [
        {
          "output_type": "stream",
          "name": "stdout",
          "text": [
            "Collecting numpy\n",
            "  Downloading numpy-2.2.4-cp311-cp311-manylinux_2_17_x86_64.manylinux2014_x86_64.whl.metadata (62 kB)\n",
            "\u001b[2K     \u001b[90m━━━━━━━━━━━━━━━━━━━━━━━━━━━━━━━━━━━━━━━━\u001b[0m \u001b[32m62.0/62.0 kB\u001b[0m \u001b[31m5.8 MB/s\u001b[0m eta \u001b[36m0:00:00\u001b[0m\n",
            "\u001b[?25hCollecting pandas\n",
            "  Downloading pandas-2.2.3-cp311-cp311-manylinux_2_17_x86_64.manylinux2014_x86_64.whl.metadata (89 kB)\n",
            "\u001b[2K     \u001b[90m━━━━━━━━━━━━━━━━━━━━━━━━━━━━━━━━━━━━━━━━\u001b[0m \u001b[32m89.9/89.9 kB\u001b[0m \u001b[31m12.9 MB/s\u001b[0m eta \u001b[36m0:00:00\u001b[0m\n",
            "\u001b[?25hCollecting great_expectations\n",
            "  Downloading great_expectations-1.3.12-py3-none-any.whl.metadata (8.6 kB)\n",
            "Requirement already satisfied: python-dateutil>=2.8.2 in /usr/local/lib/python3.11/dist-packages (from pandas) (2.8.2)\n",
            "Requirement already satisfied: pytz>=2020.1 in /usr/local/lib/python3.11/dist-packages (from pandas) (2025.2)\n",
            "Requirement already satisfied: tzdata>=2022.7 in /usr/local/lib/python3.11/dist-packages (from pandas) (2025.2)\n",
            "Requirement already satisfied: altair<5.0.0,>=4.2.1 in /usr/local/lib/python3.11/dist-packages (from great_expectations) (4.2.2)\n",
            "Requirement already satisfied: cryptography>=3.2 in /usr/local/lib/python3.11/dist-packages (from great_expectations) (43.0.3)\n",
            "Requirement already satisfied: jinja2>=3 in /usr/local/lib/python3.11/dist-packages (from great_expectations) (3.1.6)\n",
            "Requirement already satisfied: jsonschema>=2.5.1 in /usr/local/lib/python3.11/dist-packages (from great_expectations) (4.23.0)\n",
            "Requirement already satisfied: marshmallow<4.0.0,>=3.7.1 in /usr/local/lib/python3.11/dist-packages (from great_expectations) (3.26.1)\n",
            "Requirement already satisfied: mistune>=0.8.4 in /usr/local/lib/python3.11/dist-packages (from great_expectations) (3.1.3)\n",
            "Requirement already satisfied: packaging in /usr/local/lib/python3.11/dist-packages (from great_expectations) (24.2)\n",
            "Requirement already satisfied: posthog<4,>3 in /usr/local/lib/python3.11/dist-packages (from great_expectations) (3.23.0)\n",
            "Requirement already satisfied: pydantic>=1.10.7 in /usr/local/lib/python3.11/dist-packages (from great_expectations) (2.11.0)\n",
            "Requirement already satisfied: pyparsing>=2.4 in /usr/local/lib/python3.11/dist-packages (from great_expectations) (3.2.3)\n",
            "Requirement already satisfied: requests>=2.20 in /usr/local/lib/python3.11/dist-packages (from great_expectations) (2.32.3)\n",
            "Requirement already satisfied: ruamel.yaml>=0.16 in /usr/local/lib/python3.11/dist-packages (from great_expectations) (0.18.10)\n",
            "Requirement already satisfied: scipy>=1.6.0 in /usr/local/lib/python3.11/dist-packages (from great_expectations) (1.14.1)\n",
            "Requirement already satisfied: tqdm>=4.59.0 in /usr/local/lib/python3.11/dist-packages (from great_expectations) (4.67.1)\n",
            "Requirement already satisfied: typing-extensions>=4.1.0 in /usr/local/lib/python3.11/dist-packages (from great_expectations) (4.13.0)\n",
            "Requirement already satisfied: tzlocal>=1.2 in /usr/local/lib/python3.11/dist-packages (from great_expectations) (5.3.1)\n",
            "Collecting pandas\n",
            "  Downloading pandas-2.1.4-cp311-cp311-manylinux_2_17_x86_64.manylinux2014_x86_64.whl.metadata (18 kB)\n",
            "Collecting numpy\n",
            "  Downloading numpy-1.26.4-cp311-cp311-manylinux_2_17_x86_64.manylinux2014_x86_64.whl.metadata (61 kB)\n",
            "\u001b[2K     \u001b[90m━━━━━━━━━━━━━━━━━━━━━━━━━━━━━━━━━━━━━━━━\u001b[0m \u001b[32m61.0/61.0 kB\u001b[0m \u001b[31m136.0 MB/s\u001b[0m eta \u001b[36m0:00:00\u001b[0m\n",
            "\u001b[?25hRequirement already satisfied: entrypoints in /usr/local/lib/python3.11/dist-packages (from altair<5.0.0,>=4.2.1->great_expectations) (0.4)\n",
            "Requirement already satisfied: toolz in /usr/local/lib/python3.11/dist-packages (from altair<5.0.0,>=4.2.1->great_expectations) (0.12.1)\n",
            "Requirement already satisfied: cffi>=1.12 in /usr/local/lib/python3.11/dist-packages (from cryptography>=3.2->great_expectations) (1.17.1)\n",
            "Requirement already satisfied: MarkupSafe>=2.0 in /usr/local/lib/python3.11/dist-packages (from jinja2>=3->great_expectations) (3.0.2)\n",
            "Requirement already satisfied: attrs>=22.2.0 in /usr/local/lib/python3.11/dist-packages (from jsonschema>=2.5.1->great_expectations) (25.3.0)\n",
            "Requirement already satisfied: jsonschema-specifications>=2023.03.6 in /usr/local/lib/python3.11/dist-packages (from jsonschema>=2.5.1->great_expectations) (2024.10.1)\n",
            "Requirement already satisfied: referencing>=0.28.4 in /usr/local/lib/python3.11/dist-packages (from jsonschema>=2.5.1->great_expectations) (0.36.2)\n",
            "Requirement already satisfied: rpds-py>=0.7.1 in /usr/local/lib/python3.11/dist-packages (from jsonschema>=2.5.1->great_expectations) (0.24.0)\n",
            "Requirement already satisfied: six>=1.5 in /usr/local/lib/python3.11/dist-packages (from posthog<4,>3->great_expectations) (1.17.0)\n",
            "Requirement already satisfied: monotonic>=1.5 in /usr/local/lib/python3.11/dist-packages (from posthog<4,>3->great_expectations) (1.6)\n",
            "Requirement already satisfied: backoff>=1.10.0 in /usr/local/lib/python3.11/dist-packages (from posthog<4,>3->great_expectations) (2.2.1)\n",
            "Requirement already satisfied: distro>=1.5.0 in /usr/local/lib/python3.11/dist-packages (from posthog<4,>3->great_expectations) (1.9.0)\n",
            "Requirement already satisfied: annotated-types>=0.6.0 in /usr/local/lib/python3.11/dist-packages (from pydantic>=1.10.7->great_expectations) (0.7.0)\n",
            "Requirement already satisfied: pydantic-core==2.33.0 in /usr/local/lib/python3.11/dist-packages (from pydantic>=1.10.7->great_expectations) (2.33.0)\n",
            "Requirement already satisfied: typing-inspection>=0.4.0 in /usr/local/lib/python3.11/dist-packages (from pydantic>=1.10.7->great_expectations) (0.4.0)\n",
            "Requirement already satisfied: charset-normalizer<4,>=2 in /usr/local/lib/python3.11/dist-packages (from requests>=2.20->great_expectations) (3.4.1)\n",
            "Requirement already satisfied: idna<4,>=2.5 in /usr/local/lib/python3.11/dist-packages (from requests>=2.20->great_expectations) (3.10)\n",
            "Requirement already satisfied: urllib3<3,>=1.21.1 in /usr/local/lib/python3.11/dist-packages (from requests>=2.20->great_expectations) (2.3.0)\n",
            "Requirement already satisfied: certifi>=2017.4.17 in /usr/local/lib/python3.11/dist-packages (from requests>=2.20->great_expectations) (2025.1.31)\n",
            "Requirement already satisfied: ruamel.yaml.clib>=0.2.7 in /usr/local/lib/python3.11/dist-packages (from ruamel.yaml>=0.16->great_expectations) (0.2.12)\n",
            "Requirement already satisfied: pycparser in /usr/local/lib/python3.11/dist-packages (from cffi>=1.12->cryptography>=3.2->great_expectations) (2.22)\n",
            "Downloading great_expectations-1.3.12-py3-none-any.whl (5.0 MB)\n",
            "\u001b[2K   \u001b[90m━━━━━━━━━━━━━━━━━━━━━━━━━━━━━━━━━━━━━━━━\u001b[0m \u001b[32m5.0/5.0 MB\u001b[0m \u001b[31m78.3 MB/s\u001b[0m eta \u001b[36m0:00:00\u001b[0m\n",
            "\u001b[?25hDownloading pandas-2.1.4-cp311-cp311-manylinux_2_17_x86_64.manylinux2014_x86_64.whl (12.2 MB)\n",
            "\u001b[2K   \u001b[90m━━━━━━━━━━━━━━━━━━━━━━━━━━━━━━━━━━━━━━━━\u001b[0m \u001b[32m12.2/12.2 MB\u001b[0m \u001b[31m150.4 MB/s\u001b[0m eta \u001b[36m0:00:00\u001b[0m\n",
            "\u001b[?25hDownloading numpy-1.26.4-cp311-cp311-manylinux_2_17_x86_64.manylinux2014_x86_64.whl (18.3 MB)\n",
            "\u001b[2K   \u001b[90m━━━━━━━━━━━━━━━━━━━━━━━━━━━━━━━━━━━━━━━━\u001b[0m \u001b[32m18.3/18.3 MB\u001b[0m \u001b[31m135.7 MB/s\u001b[0m eta \u001b[36m0:00:00\u001b[0m\n",
            "\u001b[?25hInstalling collected packages: numpy, pandas, great_expectations\n",
            "\u001b[31mERROR: pip's dependency resolver does not currently take into account all the packages that are installed. This behaviour is the source of the following dependency conflicts.\n",
            "bigframes 1.42.0 requires pandas-gbq>=0.26.0, which is not installed.\n",
            "google-colab 1.0.0 requires pandas==2.2.2, but you have pandas 2.1.4 which is incompatible.\n",
            "mizani 0.13.1 requires pandas>=2.2.0, but you have pandas 2.1.4 which is incompatible.\n",
            "plotnine 0.14.5 requires pandas>=2.2.0, but you have pandas 2.1.4 which is incompatible.\u001b[0m\u001b[31m\n",
            "\u001b[0mSuccessfully installed great_expectations-1.3.12 numpy-1.26.4 pandas-2.1.4\n"
          ]
        }
      ],
      "source": [
        "!pip install --no-cache-dir numpy pandas great_expectations\n",
        "#!pip install great_expectations"
      ]
    },
    {
      "cell_type": "markdown",
      "source": [
        "##2. Import Necessary Libraries"
      ],
      "metadata": {
        "id": "fWSO9h40JZjg"
      }
    },
    {
      "cell_type": "code",
      "source": [
        "import numpy as np\n",
        "import pandas as pd\n",
        "import great_expectations as gx"
      ],
      "metadata": {
        "id": "77qWdq8yVVEl",
        "collapsed": true,
        "colab": {
          "base_uri": "https://localhost:8080/"
        },
        "outputId": "53606c0b-7f17-4481-e9e3-4097f3787d7a"
      },
      "execution_count": null,
      "outputs": [
        {
          "output_type": "stream",
          "name": "stderr",
          "text": [
            "WARNING:great_expectations.expectations.registry:metric column.standard_deviation.aggregate_fn is being registered with different metric_provider; overwriting metric_provider\n"
          ]
        }
      ]
    },
    {
      "cell_type": "markdown",
      "source": [
        "##3. Load Labels.csv"
      ],
      "metadata": {
        "id": "Fdt5KucDJu-h"
      }
    },
    {
      "cell_type": "markdown",
      "source": [
        "Download and upload the [Labels.csv](https://github.com/zubxxr/SOFE3980U-Lab5/blob/main/Labels.csv) into this notebook, and then load the file."
      ],
      "metadata": {
        "id": "pP3MW4uUhwAR"
      }
    },
    {
      "cell_type": "code",
      "source": [
        "from google.colab import files\n",
        "\n",
        "uploaded = files.upload()  # This will prompt you to upload Labels.csv\n",
        "df = pd.read_csv(\"Labels.csv\")  # Load the uploaded file"
      ],
      "metadata": {
        "id": "ogHUyzFKdS5z",
        "colab": {
          "base_uri": "https://localhost:8080/"
        },
        "outputId": "8ff67dc4-4119-408d-87f1-ea0e0d164a1b"
      },
      "execution_count": null,
      "outputs": [
        {
          "output_type": "display_data",
          "data": {
            "text/plain": [
              "<IPython.core.display.HTML object>"
            ],
            "text/html": [
              "\n",
              "     <input type=\"file\" id=\"files-7f40fadf-de6a-413a-9e22-33a736356bae\" name=\"files[]\" multiple disabled\n",
              "        style=\"border:none\" />\n",
              "     <output id=\"result-7f40fadf-de6a-413a-9e22-33a736356bae\">\n",
              "      Upload widget is only available when the cell has been executed in the\n",
              "      current browser session. Please rerun this cell to enable.\n",
              "      </output>\n",
              "      <script>// Copyright 2017 Google LLC\n",
              "//\n",
              "// Licensed under the Apache License, Version 2.0 (the \"License\");\n",
              "// you may not use this file except in compliance with the License.\n",
              "// You may obtain a copy of the License at\n",
              "//\n",
              "//      http://www.apache.org/licenses/LICENSE-2.0\n",
              "//\n",
              "// Unless required by applicable law or agreed to in writing, software\n",
              "// distributed under the License is distributed on an \"AS IS\" BASIS,\n",
              "// WITHOUT WARRANTIES OR CONDITIONS OF ANY KIND, either express or implied.\n",
              "// See the License for the specific language governing permissions and\n",
              "// limitations under the License.\n",
              "\n",
              "/**\n",
              " * @fileoverview Helpers for google.colab Python module.\n",
              " */\n",
              "(function(scope) {\n",
              "function span(text, styleAttributes = {}) {\n",
              "  const element = document.createElement('span');\n",
              "  element.textContent = text;\n",
              "  for (const key of Object.keys(styleAttributes)) {\n",
              "    element.style[key] = styleAttributes[key];\n",
              "  }\n",
              "  return element;\n",
              "}\n",
              "\n",
              "// Max number of bytes which will be uploaded at a time.\n",
              "const MAX_PAYLOAD_SIZE = 100 * 1024;\n",
              "\n",
              "function _uploadFiles(inputId, outputId) {\n",
              "  const steps = uploadFilesStep(inputId, outputId);\n",
              "  const outputElement = document.getElementById(outputId);\n",
              "  // Cache steps on the outputElement to make it available for the next call\n",
              "  // to uploadFilesContinue from Python.\n",
              "  outputElement.steps = steps;\n",
              "\n",
              "  return _uploadFilesContinue(outputId);\n",
              "}\n",
              "\n",
              "// This is roughly an async generator (not supported in the browser yet),\n",
              "// where there are multiple asynchronous steps and the Python side is going\n",
              "// to poll for completion of each step.\n",
              "// This uses a Promise to block the python side on completion of each step,\n",
              "// then passes the result of the previous step as the input to the next step.\n",
              "function _uploadFilesContinue(outputId) {\n",
              "  const outputElement = document.getElementById(outputId);\n",
              "  const steps = outputElement.steps;\n",
              "\n",
              "  const next = steps.next(outputElement.lastPromiseValue);\n",
              "  return Promise.resolve(next.value.promise).then((value) => {\n",
              "    // Cache the last promise value to make it available to the next\n",
              "    // step of the generator.\n",
              "    outputElement.lastPromiseValue = value;\n",
              "    return next.value.response;\n",
              "  });\n",
              "}\n",
              "\n",
              "/**\n",
              " * Generator function which is called between each async step of the upload\n",
              " * process.\n",
              " * @param {string} inputId Element ID of the input file picker element.\n",
              " * @param {string} outputId Element ID of the output display.\n",
              " * @return {!Iterable<!Object>} Iterable of next steps.\n",
              " */\n",
              "function* uploadFilesStep(inputId, outputId) {\n",
              "  const inputElement = document.getElementById(inputId);\n",
              "  inputElement.disabled = false;\n",
              "\n",
              "  const outputElement = document.getElementById(outputId);\n",
              "  outputElement.innerHTML = '';\n",
              "\n",
              "  const pickedPromise = new Promise((resolve) => {\n",
              "    inputElement.addEventListener('change', (e) => {\n",
              "      resolve(e.target.files);\n",
              "    });\n",
              "  });\n",
              "\n",
              "  const cancel = document.createElement('button');\n",
              "  inputElement.parentElement.appendChild(cancel);\n",
              "  cancel.textContent = 'Cancel upload';\n",
              "  const cancelPromise = new Promise((resolve) => {\n",
              "    cancel.onclick = () => {\n",
              "      resolve(null);\n",
              "    };\n",
              "  });\n",
              "\n",
              "  // Wait for the user to pick the files.\n",
              "  const files = yield {\n",
              "    promise: Promise.race([pickedPromise, cancelPromise]),\n",
              "    response: {\n",
              "      action: 'starting',\n",
              "    }\n",
              "  };\n",
              "\n",
              "  cancel.remove();\n",
              "\n",
              "  // Disable the input element since further picks are not allowed.\n",
              "  inputElement.disabled = true;\n",
              "\n",
              "  if (!files) {\n",
              "    return {\n",
              "      response: {\n",
              "        action: 'complete',\n",
              "      }\n",
              "    };\n",
              "  }\n",
              "\n",
              "  for (const file of files) {\n",
              "    const li = document.createElement('li');\n",
              "    li.append(span(file.name, {fontWeight: 'bold'}));\n",
              "    li.append(span(\n",
              "        `(${file.type || 'n/a'}) - ${file.size} bytes, ` +\n",
              "        `last modified: ${\n",
              "            file.lastModifiedDate ? file.lastModifiedDate.toLocaleDateString() :\n",
              "                                    'n/a'} - `));\n",
              "    const percent = span('0% done');\n",
              "    li.appendChild(percent);\n",
              "\n",
              "    outputElement.appendChild(li);\n",
              "\n",
              "    const fileDataPromise = new Promise((resolve) => {\n",
              "      const reader = new FileReader();\n",
              "      reader.onload = (e) => {\n",
              "        resolve(e.target.result);\n",
              "      };\n",
              "      reader.readAsArrayBuffer(file);\n",
              "    });\n",
              "    // Wait for the data to be ready.\n",
              "    let fileData = yield {\n",
              "      promise: fileDataPromise,\n",
              "      response: {\n",
              "        action: 'continue',\n",
              "      }\n",
              "    };\n",
              "\n",
              "    // Use a chunked sending to avoid message size limits. See b/62115660.\n",
              "    let position = 0;\n",
              "    do {\n",
              "      const length = Math.min(fileData.byteLength - position, MAX_PAYLOAD_SIZE);\n",
              "      const chunk = new Uint8Array(fileData, position, length);\n",
              "      position += length;\n",
              "\n",
              "      const base64 = btoa(String.fromCharCode.apply(null, chunk));\n",
              "      yield {\n",
              "        response: {\n",
              "          action: 'append',\n",
              "          file: file.name,\n",
              "          data: base64,\n",
              "        },\n",
              "      };\n",
              "\n",
              "      let percentDone = fileData.byteLength === 0 ?\n",
              "          100 :\n",
              "          Math.round((position / fileData.byteLength) * 100);\n",
              "      percent.textContent = `${percentDone}% done`;\n",
              "\n",
              "    } while (position < fileData.byteLength);\n",
              "  }\n",
              "\n",
              "  // All done.\n",
              "  yield {\n",
              "    response: {\n",
              "      action: 'complete',\n",
              "    }\n",
              "  };\n",
              "}\n",
              "\n",
              "scope.google = scope.google || {};\n",
              "scope.google.colab = scope.google.colab || {};\n",
              "scope.google.colab._files = {\n",
              "  _uploadFiles,\n",
              "  _uploadFilesContinue,\n",
              "};\n",
              "})(self);\n",
              "</script> "
            ]
          },
          "metadata": {}
        },
        {
          "output_type": "stream",
          "name": "stdout",
          "text": [
            "Saving Labels.csv to Labels (1).csv\n"
          ]
        }
      ]
    },
    {
      "cell_type": "markdown",
      "source": [
        "##4. Preview the Dataset"
      ],
      "metadata": {
        "id": "2BCIXXwdJyS7"
      }
    },
    {
      "cell_type": "code",
      "source": [
        "df.head()"
      ],
      "metadata": {
        "id": "OXpbbmRsVj0k",
        "colab": {
          "base_uri": "https://localhost:8080/"
        },
        "outputId": "f42081a2-4e5e-4e2b-bebe-fde4d2402bf9"
      },
      "execution_count": null,
      "outputs": [
        {
          "output_type": "execute_result",
          "data": {
            "text/plain": [
              "    Timestamp  Car1_Location_X  Car1_Location_Y  Car1_Location_Z  \\\n",
              "0  1736796157       -51.402977              143         0.596902   \n",
              "1  1736796167       -53.819637              143         0.596902   \n",
              "2  1736796178       -50.239144              143         0.596902   \n",
              "3  1736796188       -53.707220              143         0.596902   \n",
              "4  1736796198       -52.053721              143         0.596902   \n",
              "\n",
              "   Car2_Location_X  Car2_Location_Y  Car2_Location_Z Occluded_Image_view  \\\n",
              "0       -59.320270              140         0.596902           A_001.png   \n",
              "1       -59.196568              140         0.596902           A_002.png   \n",
              "2       -56.744479              140         0.596902           A_003.png   \n",
              "3       -57.309380              140         0.596902           A_004.png   \n",
              "4       -59.545897              140         0.596902           A_005.png   \n",
              "\n",
              "  Occluding_Car_view Ground_Truth_View  pedestrianLocationX_TopLeft  \\\n",
              "0          B_001.png         C_001.png                          593   \n",
              "1          B_002.png         C_002.png                          579   \n",
              "2          B_003.png         C_003.png                          854   \n",
              "3          B_004.png         C_004.png                          549   \n",
              "4          B_005.png         C_005.png                          524   \n",
              "\n",
              "   pedestrianLocationY_TopLeft  pedestrianLocationX_BottomRight  \\\n",
              "0                          361                              610   \n",
              "1                          368                              594   \n",
              "2                          720                              854   \n",
              "3                          368                              567   \n",
              "4                          368                              537   \n",
              "\n",
              "   pedestrianLocationY_BottomRight  \n",
              "0                              410  \n",
              "1                              415  \n",
              "2                              720  \n",
              "3                              425  \n",
              "4                              413  "
            ],
            "text/html": [
              "\n",
              "  <div id=\"df-9518d148-f299-4589-9e5b-26dc28eb3e99\" class=\"colab-df-container\">\n",
              "    <div>\n",
              "<style scoped>\n",
              "    .dataframe tbody tr th:only-of-type {\n",
              "        vertical-align: middle;\n",
              "    }\n",
              "\n",
              "    .dataframe tbody tr th {\n",
              "        vertical-align: top;\n",
              "    }\n",
              "\n",
              "    .dataframe thead th {\n",
              "        text-align: right;\n",
              "    }\n",
              "</style>\n",
              "<table border=\"1\" class=\"dataframe\">\n",
              "  <thead>\n",
              "    <tr style=\"text-align: right;\">\n",
              "      <th></th>\n",
              "      <th>Timestamp</th>\n",
              "      <th>Car1_Location_X</th>\n",
              "      <th>Car1_Location_Y</th>\n",
              "      <th>Car1_Location_Z</th>\n",
              "      <th>Car2_Location_X</th>\n",
              "      <th>Car2_Location_Y</th>\n",
              "      <th>Car2_Location_Z</th>\n",
              "      <th>Occluded_Image_view</th>\n",
              "      <th>Occluding_Car_view</th>\n",
              "      <th>Ground_Truth_View</th>\n",
              "      <th>pedestrianLocationX_TopLeft</th>\n",
              "      <th>pedestrianLocationY_TopLeft</th>\n",
              "      <th>pedestrianLocationX_BottomRight</th>\n",
              "      <th>pedestrianLocationY_BottomRight</th>\n",
              "    </tr>\n",
              "  </thead>\n",
              "  <tbody>\n",
              "    <tr>\n",
              "      <th>0</th>\n",
              "      <td>1736796157</td>\n",
              "      <td>-51.402977</td>\n",
              "      <td>143</td>\n",
              "      <td>0.596902</td>\n",
              "      <td>-59.320270</td>\n",
              "      <td>140</td>\n",
              "      <td>0.596902</td>\n",
              "      <td>A_001.png</td>\n",
              "      <td>B_001.png</td>\n",
              "      <td>C_001.png</td>\n",
              "      <td>593</td>\n",
              "      <td>361</td>\n",
              "      <td>610</td>\n",
              "      <td>410</td>\n",
              "    </tr>\n",
              "    <tr>\n",
              "      <th>1</th>\n",
              "      <td>1736796167</td>\n",
              "      <td>-53.819637</td>\n",
              "      <td>143</td>\n",
              "      <td>0.596902</td>\n",
              "      <td>-59.196568</td>\n",
              "      <td>140</td>\n",
              "      <td>0.596902</td>\n",
              "      <td>A_002.png</td>\n",
              "      <td>B_002.png</td>\n",
              "      <td>C_002.png</td>\n",
              "      <td>579</td>\n",
              "      <td>368</td>\n",
              "      <td>594</td>\n",
              "      <td>415</td>\n",
              "    </tr>\n",
              "    <tr>\n",
              "      <th>2</th>\n",
              "      <td>1736796178</td>\n",
              "      <td>-50.239144</td>\n",
              "      <td>143</td>\n",
              "      <td>0.596902</td>\n",
              "      <td>-56.744479</td>\n",
              "      <td>140</td>\n",
              "      <td>0.596902</td>\n",
              "      <td>A_003.png</td>\n",
              "      <td>B_003.png</td>\n",
              "      <td>C_003.png</td>\n",
              "      <td>854</td>\n",
              "      <td>720</td>\n",
              "      <td>854</td>\n",
              "      <td>720</td>\n",
              "    </tr>\n",
              "    <tr>\n",
              "      <th>3</th>\n",
              "      <td>1736796188</td>\n",
              "      <td>-53.707220</td>\n",
              "      <td>143</td>\n",
              "      <td>0.596902</td>\n",
              "      <td>-57.309380</td>\n",
              "      <td>140</td>\n",
              "      <td>0.596902</td>\n",
              "      <td>A_004.png</td>\n",
              "      <td>B_004.png</td>\n",
              "      <td>C_004.png</td>\n",
              "      <td>549</td>\n",
              "      <td>368</td>\n",
              "      <td>567</td>\n",
              "      <td>425</td>\n",
              "    </tr>\n",
              "    <tr>\n",
              "      <th>4</th>\n",
              "      <td>1736796198</td>\n",
              "      <td>-52.053721</td>\n",
              "      <td>143</td>\n",
              "      <td>0.596902</td>\n",
              "      <td>-59.545897</td>\n",
              "      <td>140</td>\n",
              "      <td>0.596902</td>\n",
              "      <td>A_005.png</td>\n",
              "      <td>B_005.png</td>\n",
              "      <td>C_005.png</td>\n",
              "      <td>524</td>\n",
              "      <td>368</td>\n",
              "      <td>537</td>\n",
              "      <td>413</td>\n",
              "    </tr>\n",
              "  </tbody>\n",
              "</table>\n",
              "</div>\n",
              "    <div class=\"colab-df-buttons\">\n",
              "\n",
              "  <div class=\"colab-df-container\">\n",
              "    <button class=\"colab-df-convert\" onclick=\"convertToInteractive('df-9518d148-f299-4589-9e5b-26dc28eb3e99')\"\n",
              "            title=\"Convert this dataframe to an interactive table.\"\n",
              "            style=\"display:none;\">\n",
              "\n",
              "  <svg xmlns=\"http://www.w3.org/2000/svg\" height=\"24px\" viewBox=\"0 -960 960 960\">\n",
              "    <path d=\"M120-120v-720h720v720H120Zm60-500h600v-160H180v160Zm220 220h160v-160H400v160Zm0 220h160v-160H400v160ZM180-400h160v-160H180v160Zm440 0h160v-160H620v160ZM180-180h160v-160H180v160Zm440 0h160v-160H620v160Z\"/>\n",
              "  </svg>\n",
              "    </button>\n",
              "\n",
              "  <style>\n",
              "    .colab-df-container {\n",
              "      display:flex;\n",
              "      gap: 12px;\n",
              "    }\n",
              "\n",
              "    .colab-df-convert {\n",
              "      background-color: #E8F0FE;\n",
              "      border: none;\n",
              "      border-radius: 50%;\n",
              "      cursor: pointer;\n",
              "      display: none;\n",
              "      fill: #1967D2;\n",
              "      height: 32px;\n",
              "      padding: 0 0 0 0;\n",
              "      width: 32px;\n",
              "    }\n",
              "\n",
              "    .colab-df-convert:hover {\n",
              "      background-color: #E2EBFA;\n",
              "      box-shadow: 0px 1px 2px rgba(60, 64, 67, 0.3), 0px 1px 3px 1px rgba(60, 64, 67, 0.15);\n",
              "      fill: #174EA6;\n",
              "    }\n",
              "\n",
              "    .colab-df-buttons div {\n",
              "      margin-bottom: 4px;\n",
              "    }\n",
              "\n",
              "    [theme=dark] .colab-df-convert {\n",
              "      background-color: #3B4455;\n",
              "      fill: #D2E3FC;\n",
              "    }\n",
              "\n",
              "    [theme=dark] .colab-df-convert:hover {\n",
              "      background-color: #434B5C;\n",
              "      box-shadow: 0px 1px 3px 1px rgba(0, 0, 0, 0.15);\n",
              "      filter: drop-shadow(0px 1px 2px rgba(0, 0, 0, 0.3));\n",
              "      fill: #FFFFFF;\n",
              "    }\n",
              "  </style>\n",
              "\n",
              "    <script>\n",
              "      const buttonEl =\n",
              "        document.querySelector('#df-9518d148-f299-4589-9e5b-26dc28eb3e99 button.colab-df-convert');\n",
              "      buttonEl.style.display =\n",
              "        google.colab.kernel.accessAllowed ? 'block' : 'none';\n",
              "\n",
              "      async function convertToInteractive(key) {\n",
              "        const element = document.querySelector('#df-9518d148-f299-4589-9e5b-26dc28eb3e99');\n",
              "        const dataTable =\n",
              "          await google.colab.kernel.invokeFunction('convertToInteractive',\n",
              "                                                    [key], {});\n",
              "        if (!dataTable) return;\n",
              "\n",
              "        const docLinkHtml = 'Like what you see? Visit the ' +\n",
              "          '<a target=\"_blank\" href=https://colab.research.google.com/notebooks/data_table.ipynb>data table notebook</a>'\n",
              "          + ' to learn more about interactive tables.';\n",
              "        element.innerHTML = '';\n",
              "        dataTable['output_type'] = 'display_data';\n",
              "        await google.colab.output.renderOutput(dataTable, element);\n",
              "        const docLink = document.createElement('div');\n",
              "        docLink.innerHTML = docLinkHtml;\n",
              "        element.appendChild(docLink);\n",
              "      }\n",
              "    </script>\n",
              "  </div>\n",
              "\n",
              "\n",
              "<div id=\"df-c214f2c6-d1f6-4874-a492-feb8269141b7\">\n",
              "  <button class=\"colab-df-quickchart\" onclick=\"quickchart('df-c214f2c6-d1f6-4874-a492-feb8269141b7')\"\n",
              "            title=\"Suggest charts\"\n",
              "            style=\"display:none;\">\n",
              "\n",
              "<svg xmlns=\"http://www.w3.org/2000/svg\" height=\"24px\"viewBox=\"0 0 24 24\"\n",
              "     width=\"24px\">\n",
              "    <g>\n",
              "        <path d=\"M19 3H5c-1.1 0-2 .9-2 2v14c0 1.1.9 2 2 2h14c1.1 0 2-.9 2-2V5c0-1.1-.9-2-2-2zM9 17H7v-7h2v7zm4 0h-2V7h2v10zm4 0h-2v-4h2v4z\"/>\n",
              "    </g>\n",
              "</svg>\n",
              "  </button>\n",
              "\n",
              "<style>\n",
              "  .colab-df-quickchart {\n",
              "      --bg-color: #E8F0FE;\n",
              "      --fill-color: #1967D2;\n",
              "      --hover-bg-color: #E2EBFA;\n",
              "      --hover-fill-color: #174EA6;\n",
              "      --disabled-fill-color: #AAA;\n",
              "      --disabled-bg-color: #DDD;\n",
              "  }\n",
              "\n",
              "  [theme=dark] .colab-df-quickchart {\n",
              "      --bg-color: #3B4455;\n",
              "      --fill-color: #D2E3FC;\n",
              "      --hover-bg-color: #434B5C;\n",
              "      --hover-fill-color: #FFFFFF;\n",
              "      --disabled-bg-color: #3B4455;\n",
              "      --disabled-fill-color: #666;\n",
              "  }\n",
              "\n",
              "  .colab-df-quickchart {\n",
              "    background-color: var(--bg-color);\n",
              "    border: none;\n",
              "    border-radius: 50%;\n",
              "    cursor: pointer;\n",
              "    display: none;\n",
              "    fill: var(--fill-color);\n",
              "    height: 32px;\n",
              "    padding: 0;\n",
              "    width: 32px;\n",
              "  }\n",
              "\n",
              "  .colab-df-quickchart:hover {\n",
              "    background-color: var(--hover-bg-color);\n",
              "    box-shadow: 0 1px 2px rgba(60, 64, 67, 0.3), 0 1px 3px 1px rgba(60, 64, 67, 0.15);\n",
              "    fill: var(--button-hover-fill-color);\n",
              "  }\n",
              "\n",
              "  .colab-df-quickchart-complete:disabled,\n",
              "  .colab-df-quickchart-complete:disabled:hover {\n",
              "    background-color: var(--disabled-bg-color);\n",
              "    fill: var(--disabled-fill-color);\n",
              "    box-shadow: none;\n",
              "  }\n",
              "\n",
              "  .colab-df-spinner {\n",
              "    border: 2px solid var(--fill-color);\n",
              "    border-color: transparent;\n",
              "    border-bottom-color: var(--fill-color);\n",
              "    animation:\n",
              "      spin 1s steps(1) infinite;\n",
              "  }\n",
              "\n",
              "  @keyframes spin {\n",
              "    0% {\n",
              "      border-color: transparent;\n",
              "      border-bottom-color: var(--fill-color);\n",
              "      border-left-color: var(--fill-color);\n",
              "    }\n",
              "    20% {\n",
              "      border-color: transparent;\n",
              "      border-left-color: var(--fill-color);\n",
              "      border-top-color: var(--fill-color);\n",
              "    }\n",
              "    30% {\n",
              "      border-color: transparent;\n",
              "      border-left-color: var(--fill-color);\n",
              "      border-top-color: var(--fill-color);\n",
              "      border-right-color: var(--fill-color);\n",
              "    }\n",
              "    40% {\n",
              "      border-color: transparent;\n",
              "      border-right-color: var(--fill-color);\n",
              "      border-top-color: var(--fill-color);\n",
              "    }\n",
              "    60% {\n",
              "      border-color: transparent;\n",
              "      border-right-color: var(--fill-color);\n",
              "    }\n",
              "    80% {\n",
              "      border-color: transparent;\n",
              "      border-right-color: var(--fill-color);\n",
              "      border-bottom-color: var(--fill-color);\n",
              "    }\n",
              "    90% {\n",
              "      border-color: transparent;\n",
              "      border-bottom-color: var(--fill-color);\n",
              "    }\n",
              "  }\n",
              "</style>\n",
              "\n",
              "  <script>\n",
              "    async function quickchart(key) {\n",
              "      const quickchartButtonEl =\n",
              "        document.querySelector('#' + key + ' button');\n",
              "      quickchartButtonEl.disabled = true;  // To prevent multiple clicks.\n",
              "      quickchartButtonEl.classList.add('colab-df-spinner');\n",
              "      try {\n",
              "        const charts = await google.colab.kernel.invokeFunction(\n",
              "            'suggestCharts', [key], {});\n",
              "      } catch (error) {\n",
              "        console.error('Error during call to suggestCharts:', error);\n",
              "      }\n",
              "      quickchartButtonEl.classList.remove('colab-df-spinner');\n",
              "      quickchartButtonEl.classList.add('colab-df-quickchart-complete');\n",
              "    }\n",
              "    (() => {\n",
              "      let quickchartButtonEl =\n",
              "        document.querySelector('#df-c214f2c6-d1f6-4874-a492-feb8269141b7 button');\n",
              "      quickchartButtonEl.style.display =\n",
              "        google.colab.kernel.accessAllowed ? 'block' : 'none';\n",
              "    })();\n",
              "  </script>\n",
              "</div>\n",
              "\n",
              "    </div>\n",
              "  </div>\n"
            ],
            "application/vnd.google.colaboratory.intrinsic+json": {
              "type": "dataframe",
              "variable_name": "df",
              "summary": "{\n  \"name\": \"df\",\n  \"rows\": 121,\n  \"fields\": [\n    {\n      \"column\": \"Timestamp\",\n      \"properties\": {\n        \"dtype\": \"number\",\n        \"std\": 537,\n        \"min\": 1736796157,\n        \"max\": 1736797850,\n        \"num_unique_values\": 121,\n        \"samples\": [\n          1736796637,\n          1736796674,\n          1736796198\n        ],\n        \"semantic_type\": \"\",\n        \"description\": \"\"\n      }\n    },\n    {\n      \"column\": \"Car1_Location_X\",\n      \"properties\": {\n        \"dtype\": \"number\",\n        \"std\": 1.2222385688529998,\n        \"min\": -53.99290223,\n        \"max\": -50.01929523,\n        \"num_unique_values\": 121,\n        \"samples\": [\n          -52.65094267,\n          -50.30896791,\n          -52.05372109\n        ],\n        \"semantic_type\": \"\",\n        \"description\": \"\"\n      }\n    },\n    {\n      \"column\": \"Car1_Location_Y\",\n      \"properties\": {\n        \"dtype\": \"number\",\n        \"std\": 0,\n        \"min\": 143,\n        \"max\": 143,\n        \"num_unique_values\": 1,\n        \"samples\": [\n          143\n        ],\n        \"semantic_type\": \"\",\n        \"description\": \"\"\n      }\n    },\n    {\n      \"column\": \"Car1_Location_Z\",\n      \"properties\": {\n        \"dtype\": \"number\",\n        \"std\": 0.0,\n        \"min\": 0.596902,\n        \"max\": 0.596902,\n        \"num_unique_values\": 1,\n        \"samples\": [\n          0.596902\n        ],\n        \"semantic_type\": \"\",\n        \"description\": \"\"\n      }\n    },\n    {\n      \"column\": \"Car2_Location_X\",\n      \"properties\": {\n        \"dtype\": \"number\",\n        \"std\": 1.7756563170459483,\n        \"min\": -59.9582375,\n        \"max\": -54.03136206,\n        \"num_unique_values\": 121,\n        \"samples\": [\n          -56.73126517\n        ],\n        \"semantic_type\": \"\",\n        \"description\": \"\"\n      }\n    },\n    {\n      \"column\": \"Car2_Location_Y\",\n      \"properties\": {\n        \"dtype\": \"number\",\n        \"std\": 0,\n        \"min\": 140,\n        \"max\": 140,\n        \"num_unique_values\": 1,\n        \"samples\": [\n          140\n        ],\n        \"semantic_type\": \"\",\n        \"description\": \"\"\n      }\n    },\n    {\n      \"column\": \"Car2_Location_Z\",\n      \"properties\": {\n        \"dtype\": \"number\",\n        \"std\": 0.0,\n        \"min\": 0.596902,\n        \"max\": 0.596902,\n        \"num_unique_values\": 1,\n        \"samples\": [\n          0.596902\n        ],\n        \"semantic_type\": \"\",\n        \"description\": \"\"\n      }\n    },\n    {\n      \"column\": \"Occluded_Image_view\",\n      \"properties\": {\n        \"dtype\": \"string\",\n        \"num_unique_values\": 120,\n        \"samples\": [\n          \"A_045.png\"\n        ],\n        \"semantic_type\": \"\",\n        \"description\": \"\"\n      }\n    },\n    {\n      \"column\": \"Occluding_Car_view\",\n      \"properties\": {\n        \"dtype\": \"string\",\n        \"num_unique_values\": 120,\n        \"samples\": [\n          \"B_045.png\"\n        ],\n        \"semantic_type\": \"\",\n        \"description\": \"\"\n      }\n    },\n    {\n      \"column\": \"Ground_Truth_View\",\n      \"properties\": {\n        \"dtype\": \"string\",\n        \"num_unique_values\": 120,\n        \"samples\": [\n          \"C_045.png\"\n        ],\n        \"semantic_type\": \"\",\n        \"description\": \"\"\n      }\n    },\n    {\n      \"column\": \"pedestrianLocationX_TopLeft\",\n      \"properties\": {\n        \"dtype\": \"number\",\n        \"std\": 55,\n        \"min\": 522,\n        \"max\": 854,\n        \"num_unique_values\": 75,\n        \"samples\": [\n          524\n        ],\n        \"semantic_type\": \"\",\n        \"description\": \"\"\n      }\n    },\n    {\n      \"column\": \"pedestrianLocationY_TopLeft\",\n      \"properties\": {\n        \"dtype\": \"number\",\n        \"std\": 44,\n        \"min\": 361,\n        \"max\": 720,\n        \"num_unique_values\": 15,\n        \"samples\": [\n          367\n        ],\n        \"semantic_type\": \"\",\n        \"description\": \"\"\n      }\n    },\n    {\n      \"column\": \"pedestrianLocationX_BottomRight\",\n      \"properties\": {\n        \"dtype\": \"number\",\n        \"std\": 52,\n        \"min\": 533,\n        \"max\": 854,\n        \"num_unique_values\": 84,\n        \"samples\": [\n          676\n        ],\n        \"semantic_type\": \"\",\n        \"description\": \"\"\n      }\n    },\n    {\n      \"column\": \"pedestrianLocationY_BottomRight\",\n      \"properties\": {\n        \"dtype\": \"number\",\n        \"std\": 29,\n        \"min\": 408,\n        \"max\": 720,\n        \"num_unique_values\": 45,\n        \"samples\": [\n          458\n        ],\n        \"semantic_type\": \"\",\n        \"description\": \"\"\n      }\n    }\n  ]\n}"
            }
          },
          "metadata": {},
          "execution_count": 6
        }
      ]
    },
    {
      "cell_type": "markdown",
      "source": [
        "##5. Set Up Great Expectations Context and Data Source"
      ],
      "metadata": {
        "id": "WwljyFlFJ1A8"
      }
    },
    {
      "cell_type": "code",
      "source": [
        "\n",
        "\n",
        "context = gx.get_context()\n",
        "data_source = context.data_sources.add_pandas(\"pandas\")\n",
        "data_asset = data_source.add_dataframe_asset(name=\"labels_asset\")"
      ],
      "metadata": {
        "id": "SxSmTGmZVk5U",
        "colab": {
          "base_uri": "https://localhost:8080/"
        },
        "outputId": "3de6b585-8e28-478f-95f7-553306a82741"
      },
      "execution_count": 21,
      "outputs": [
        {
          "output_type": "stream",
          "name": "stderr",
          "text": [
            "INFO:great_expectations.data_context.types.base:Created temporary directory '/tmp/tmpo9d_xs94' for ephemeral docs site\n"
          ]
        }
      ]
    },
    {
      "cell_type": "markdown",
      "source": [
        "##6. Define and Create a Data Batch"
      ],
      "metadata": {
        "id": "IHl4W07zJ5-A"
      }
    },
    {
      "cell_type": "code",
      "source": [
        "batch_definition = data_asset.add_batch_definition_whole_dataframe(\"labels_batch\")\n",
        "batch = batch_definition.get_batch(batch_parameters={\"dataframe\": df})\n"
      ],
      "metadata": {
        "id": "dTdpe1tVhpgp"
      },
      "execution_count": 22,
      "outputs": []
    },
    {
      "cell_type": "markdown",
      "source": [
        "##7. Define Three Expectations for Column Values"
      ],
      "metadata": {
        "id": "JhVlKGYXJ8Tf"
      }
    },
    {
      "cell_type": "markdown",
      "source": [
        "Using this [link](https://greatexpectations.io/expectations/), choose three expectation functions and apply them to the labels dataset in a relevant manner.\n",
        "\n",
        "You should replace the 'ExpectColumnValuesToBeBetween' function with other functions you select from the link.\n",
        "\n",
        "You can also check the format/parameters required of each function when you click \"See more\" on the function."
      ],
      "metadata": {
        "id": "8ixvqF3OYnlt"
      }
    },
    {
      "cell_type": "code",
      "source": [
        "## Original Function\n",
        "expectation = gx.expectations.ExpectColumnValuesToBeBetween(\n",
        "    column=\"column\", min_value=0, max_value=20\n",
        ")\n",
        "\n",
        "## Example Function\n",
        "\n",
        "## This function only requires a column parameter, and not a max or min value\n",
        "expectation = gx.expectations.ExpectColumnValuesToBeUnique(\n",
        "    column=\"column\"\n",
        ")"
      ],
      "metadata": {
        "id": "O2JMz9pScU6n"
      },
      "execution_count": null,
      "outputs": []
    },
    {
      "cell_type": "markdown",
      "source": [
        "### Expectation 1"
      ],
      "metadata": {
        "id": "gaIvn5Y-Mazw"
      }
    },
    {
      "cell_type": "code",
      "source": [
        "expectation1 = gx.expectations.ExpectColumnValuesToNotBeNull(\n",
        "    column=\"label\"\n",
        ")\n"
      ],
      "metadata": {
        "id": "PJw-qrNyhsIX"
      },
      "execution_count": 23,
      "outputs": []
    },
    {
      "cell_type": "markdown",
      "source": [
        "### Validate Data Against Expectation 1"
      ],
      "metadata": {
        "id": "iaWGD8GL8jSA"
      }
    },
    {
      "cell_type": "code",
      "source": [
        "result1 = batch.validate(expectation1)\n",
        "print(result1)"
      ],
      "metadata": {
        "id": "zE_iE0yr8k9y",
        "colab": {
          "base_uri": "https://localhost:8080/",
          "height": 416,
          "referenced_widgets": [
            "944875c9bcd24d96a7d79a7e7b6f27d7",
            "fdb48c2325d449948480927a9da6b450",
            "aa48467f1cc5423f807e5d6e2393ec4d",
            "aac379f1e22f41fb99f3907bbd8a95fd",
            "90233ed5fd544405a121895a878a9430",
            "2e31b46b11324babb8b7bba2268cd1a7",
            "7fccf85fd55a4ccab4c9a6e7dc0a3803",
            "a987c8ada8b34d708c8caaae4b07b608",
            "04a4a3c1eccf48119e8f98e89d61d63f",
            "8f88c2fccd1c4b8bb6e0ba869109cd99",
            "96948e246e0541c281a44532370d6e17"
          ]
        },
        "outputId": "b49d1348-0325-454b-c294-f503884486e5"
      },
      "execution_count": 24,
      "outputs": [
        {
          "output_type": "display_data",
          "data": {
            "text/plain": [
              "Calculating Metrics:   0%|          | 0/8 [00:00<?, ?it/s]"
            ],
            "application/vnd.jupyter.widget-view+json": {
              "version_major": 2,
              "version_minor": 0,
              "model_id": "944875c9bcd24d96a7d79a7e7b6f27d7"
            }
          },
          "metadata": {}
        },
        {
          "output_type": "stream",
          "name": "stdout",
          "text": [
            "{\n",
            "  \"success\": false,\n",
            "  \"expectation_config\": {\n",
            "    \"type\": \"expect_column_values_to_not_be_null\",\n",
            "    \"kwargs\": {\n",
            "      \"column\": \"label\",\n",
            "      \"batch_id\": \"pandas-labels_asset\"\n",
            "    },\n",
            "    \"meta\": {}\n",
            "  },\n",
            "  \"result\": {},\n",
            "  \"meta\": {},\n",
            "  \"exception_info\": {\n",
            "    \"MetricConfigurationID(metric_name='column_values.nonnull.condition', metric_domain_kwargs_id='d93e8b477aeb45ca7c3e64c5f396a01c', metric_value_kwargs_id=())\": {\n",
            "      \"exception_traceback\": \"Traceback (most recent call last):\\n  File \\\"/usr/local/lib/python3.11/dist-packages/great_expectations/execution_engine/execution_engine.py\\\", line 534, in _process_direct_and_bundled_metric_computation_configurations\\n    metric_computation_configuration.metric_fn(  # type: ignore[misc] # F not callable\\n  File \\\"/usr/local/lib/python3.11/dist-packages/great_expectations/expectations/metrics/metric_provider.py\\\", line 99, in inner_func\\n    return metric_fn(*args, **kwargs)\\n           ^^^^^^^^^^^^^^^^^^^^^^^^^^\\n  File \\\"/usr/local/lib/python3.11/dist-packages/great_expectations/expectations/metrics/map_metric_provider/column_condition_partial.py\\\", line 92, in inner_func\\n    metric_domain_kwargs = get_dbms_compatible_metric_domain_kwargs(\\n                           ^^^^^^^^^^^^^^^^^^^^^^^^^^^^^^^^^^^^^^^^^\\n  File \\\"/usr/local/lib/python3.11/dist-packages/great_expectations/expectations/metrics/util.py\\\", line 685, in get_dbms_compatible_metric_domain_kwargs\\n    column_name: str | sqlalchemy.quoted_name = get_dbms_compatible_column_names(\\n                                                ^^^^^^^^^^^^^^^^^^^^^^^^^^^^^^^^^\\n  File \\\"/usr/local/lib/python3.11/dist-packages/great_expectations/expectations/metrics/util.py\\\", line 755, in get_dbms_compatible_column_names\\n    _verify_column_names_exist_and_get_normalized_typed_column_names_map(\\n  File \\\"/usr/local/lib/python3.11/dist-packages/great_expectations/expectations/metrics/util.py\\\", line 840, in _verify_column_names_exist_and_get_normalized_typed_column_names_map\\n    raise gx_exceptions.InvalidMetricAccessorDomainKwargsKeyError(\\ngreat_expectations.exceptions.exceptions.InvalidMetricAccessorDomainKwargsKeyError: Error: The column \\\"label\\\" in BatchData does not exist.\\n\\nThe above exception was the direct cause of the following exception:\\n\\nTraceback (most recent call last):\\n  File \\\"/usr/local/lib/python3.11/dist-packages/great_expectations/validator/validation_graph.py\\\", line 296, in _resolve\\n    self._execution_engine.resolve_metrics(\\n  File \\\"/usr/local/lib/python3.11/dist-packages/great_expectations/execution_engine/execution_engine.py\\\", line 280, in resolve_metrics\\n    return self._process_direct_and_bundled_metric_computation_configurations(\\n           ^^^^^^^^^^^^^^^^^^^^^^^^^^^^^^^^^^^^^^^^^^^^^^^^^^^^^^^^^^^^^^^^^^^\\n  File \\\"/usr/local/lib/python3.11/dist-packages/great_expectations/execution_engine/execution_engine.py\\\", line 539, in _process_direct_and_bundled_metric_computation_configurations\\n    raise gx_exceptions.MetricResolutionError(\\ngreat_expectations.exceptions.exceptions.MetricResolutionError: Error: The column \\\"label\\\" in BatchData does not exist.\\n\",\n",
            "      \"exception_message\": \"Error: The column \\\"label\\\" in BatchData does not exist.\",\n",
            "      \"raised_exception\": true\n",
            "    }\n",
            "  }\n",
            "}\n"
          ]
        }
      ]
    },
    {
      "cell_type": "markdown",
      "source": [
        "### Expectation 2"
      ],
      "metadata": {
        "id": "37TjcPpxYiMZ"
      }
    },
    {
      "cell_type": "code",
      "source": [
        "\n",
        "\n",
        "expectation2 = gx.expectations.ExpectColumnValuesToBeInSet(\n",
        "    column=\"label\",\n",
        "    value_set=[\"cat\", \"dog\", \"bird\"]\n",
        ")\n"
      ],
      "metadata": {
        "id": "duJPbIxoYfNc"
      },
      "execution_count": 25,
      "outputs": []
    },
    {
      "cell_type": "markdown",
      "source": [
        "### Validate Data Against Expectation 2"
      ],
      "metadata": {
        "id": "rCO1JE2O8lcf"
      }
    },
    {
      "cell_type": "code",
      "source": [
        "\n",
        "\n",
        "result2 = batch.validate(expectation2)\n",
        "print(result2)"
      ],
      "metadata": {
        "id": "0HbLTxQJ8rXp",
        "colab": {
          "base_uri": "https://localhost:8080/",
          "height": 590,
          "referenced_widgets": [
            "719fd37378334d11aa349fb468315b15",
            "1e4931ef6d8a4862aa794f3f36153d8d",
            "5e86e24798c24ec6a4b10d73787dd12d",
            "fe029c0248a64d36a6dee8f93a7d096a",
            "37c1112e9cff42d9bf5dec9720da205d",
            "16132ddcc476457393486868228583ad",
            "ad6df4e9f1e4472a96ec2436055da414",
            "ac2f178e214b4c3da65be43e100a1380",
            "ea35d106bc634df0a8afe71a21cca4d9",
            "de4a83f3fcf44cd5bf5332e7775ada0a",
            "d37634bb6cec4dba89b836f70e6112f3"
          ]
        },
        "outputId": "7d82c11c-22f2-40fc-9191-61c322522b60"
      },
      "execution_count": 26,
      "outputs": [
        {
          "output_type": "display_data",
          "data": {
            "text/plain": [
              "Calculating Metrics:   0%|          | 0/10 [00:00<?, ?it/s]"
            ],
            "application/vnd.jupyter.widget-view+json": {
              "version_major": 2,
              "version_minor": 0,
              "model_id": "719fd37378334d11aa349fb468315b15"
            }
          },
          "metadata": {}
        },
        {
          "output_type": "stream",
          "name": "stdout",
          "text": [
            "{\n",
            "  \"success\": false,\n",
            "  \"expectation_config\": {\n",
            "    \"type\": \"expect_column_values_to_be_in_set\",\n",
            "    \"kwargs\": {\n",
            "      \"column\": \"label\",\n",
            "      \"value_set\": [\n",
            "        \"cat\",\n",
            "        \"dog\",\n",
            "        \"bird\"\n",
            "      ],\n",
            "      \"batch_id\": \"pandas-labels_asset\"\n",
            "    },\n",
            "    \"meta\": {}\n",
            "  },\n",
            "  \"result\": {},\n",
            "  \"meta\": {},\n",
            "  \"exception_info\": {\n",
            "    \"MetricConfigurationID(metric_name='column_values.nonnull.condition', metric_domain_kwargs_id='8e71924e7ee2b200202d51461bcf2326', metric_value_kwargs_id=())\": {\n",
            "      \"exception_traceback\": \"Traceback (most recent call last):\\n  File \\\"/usr/local/lib/python3.11/dist-packages/great_expectations/execution_engine/execution_engine.py\\\", line 534, in _process_direct_and_bundled_metric_computation_configurations\\n    metric_computation_configuration.metric_fn(  # type: ignore[misc] # F not callable\\n  File \\\"/usr/local/lib/python3.11/dist-packages/great_expectations/expectations/metrics/metric_provider.py\\\", line 99, in inner_func\\n    return metric_fn(*args, **kwargs)\\n           ^^^^^^^^^^^^^^^^^^^^^^^^^^\\n  File \\\"/usr/local/lib/python3.11/dist-packages/great_expectations/expectations/metrics/map_metric_provider/column_condition_partial.py\\\", line 92, in inner_func\\n    metric_domain_kwargs = get_dbms_compatible_metric_domain_kwargs(\\n                           ^^^^^^^^^^^^^^^^^^^^^^^^^^^^^^^^^^^^^^^^^\\n  File \\\"/usr/local/lib/python3.11/dist-packages/great_expectations/expectations/metrics/util.py\\\", line 685, in get_dbms_compatible_metric_domain_kwargs\\n    column_name: str | sqlalchemy.quoted_name = get_dbms_compatible_column_names(\\n                                                ^^^^^^^^^^^^^^^^^^^^^^^^^^^^^^^^^\\n  File \\\"/usr/local/lib/python3.11/dist-packages/great_expectations/expectations/metrics/util.py\\\", line 755, in get_dbms_compatible_column_names\\n    _verify_column_names_exist_and_get_normalized_typed_column_names_map(\\n  File \\\"/usr/local/lib/python3.11/dist-packages/great_expectations/expectations/metrics/util.py\\\", line 840, in _verify_column_names_exist_and_get_normalized_typed_column_names_map\\n    raise gx_exceptions.InvalidMetricAccessorDomainKwargsKeyError(\\ngreat_expectations.exceptions.exceptions.InvalidMetricAccessorDomainKwargsKeyError: Error: The column \\\"label\\\" in BatchData does not exist.\\n\\nThe above exception was the direct cause of the following exception:\\n\\nTraceback (most recent call last):\\n  File \\\"/usr/local/lib/python3.11/dist-packages/great_expectations/validator/validation_graph.py\\\", line 296, in _resolve\\n    self._execution_engine.resolve_metrics(\\n  File \\\"/usr/local/lib/python3.11/dist-packages/great_expectations/execution_engine/execution_engine.py\\\", line 280, in resolve_metrics\\n    return self._process_direct_and_bundled_metric_computation_configurations(\\n           ^^^^^^^^^^^^^^^^^^^^^^^^^^^^^^^^^^^^^^^^^^^^^^^^^^^^^^^^^^^^^^^^^^^\\n  File \\\"/usr/local/lib/python3.11/dist-packages/great_expectations/execution_engine/execution_engine.py\\\", line 539, in _process_direct_and_bundled_metric_computation_configurations\\n    raise gx_exceptions.MetricResolutionError(\\ngreat_expectations.exceptions.exceptions.MetricResolutionError: Error: The column \\\"label\\\" in BatchData does not exist.\\n\",\n",
            "      \"exception_message\": \"Error: The column \\\"label\\\" in BatchData does not exist.\",\n",
            "      \"raised_exception\": true\n",
            "    },\n",
            "    \"MetricConfigurationID(metric_name='column_values.in_set.condition', metric_domain_kwargs_id='8e71924e7ee2b200202d51461bcf2326', metric_value_kwargs_id=\\\"value_set=['cat', 'dog', 'bird']\\\")\": {\n",
            "      \"exception_traceback\": \"Traceback (most recent call last):\\n  File \\\"/usr/local/lib/python3.11/dist-packages/great_expectations/execution_engine/execution_engine.py\\\", line 534, in _process_direct_and_bundled_metric_computation_configurations\\n    metric_computation_configuration.metric_fn(  # type: ignore[misc] # F not callable\\n  File \\\"/usr/local/lib/python3.11/dist-packages/great_expectations/expectations/metrics/metric_provider.py\\\", line 99, in inner_func\\n    return metric_fn(*args, **kwargs)\\n           ^^^^^^^^^^^^^^^^^^^^^^^^^^\\n  File \\\"/usr/local/lib/python3.11/dist-packages/great_expectations/expectations/metrics/map_metric_provider/column_condition_partial.py\\\", line 92, in inner_func\\n    metric_domain_kwargs = get_dbms_compatible_metric_domain_kwargs(\\n                           ^^^^^^^^^^^^^^^^^^^^^^^^^^^^^^^^^^^^^^^^^\\n  File \\\"/usr/local/lib/python3.11/dist-packages/great_expectations/expectations/metrics/util.py\\\", line 685, in get_dbms_compatible_metric_domain_kwargs\\n    column_name: str | sqlalchemy.quoted_name = get_dbms_compatible_column_names(\\n                                                ^^^^^^^^^^^^^^^^^^^^^^^^^^^^^^^^^\\n  File \\\"/usr/local/lib/python3.11/dist-packages/great_expectations/expectations/metrics/util.py\\\", line 755, in get_dbms_compatible_column_names\\n    _verify_column_names_exist_and_get_normalized_typed_column_names_map(\\n  File \\\"/usr/local/lib/python3.11/dist-packages/great_expectations/expectations/metrics/util.py\\\", line 840, in _verify_column_names_exist_and_get_normalized_typed_column_names_map\\n    raise gx_exceptions.InvalidMetricAccessorDomainKwargsKeyError(\\ngreat_expectations.exceptions.exceptions.InvalidMetricAccessorDomainKwargsKeyError: Error: The column \\\"label\\\" in BatchData does not exist.\\n\\nThe above exception was the direct cause of the following exception:\\n\\nTraceback (most recent call last):\\n  File \\\"/usr/local/lib/python3.11/dist-packages/great_expectations/validator/validation_graph.py\\\", line 296, in _resolve\\n    self._execution_engine.resolve_metrics(\\n  File \\\"/usr/local/lib/python3.11/dist-packages/great_expectations/execution_engine/execution_engine.py\\\", line 280, in resolve_metrics\\n    return self._process_direct_and_bundled_metric_computation_configurations(\\n           ^^^^^^^^^^^^^^^^^^^^^^^^^^^^^^^^^^^^^^^^^^^^^^^^^^^^^^^^^^^^^^^^^^^\\n  File \\\"/usr/local/lib/python3.11/dist-packages/great_expectations/execution_engine/execution_engine.py\\\", line 539, in _process_direct_and_bundled_metric_computation_configurations\\n    raise gx_exceptions.MetricResolutionError(\\ngreat_expectations.exceptions.exceptions.MetricResolutionError: Error: The column \\\"label\\\" in BatchData does not exist.\\n\",\n",
            "      \"exception_message\": \"Error: The column \\\"label\\\" in BatchData does not exist.\",\n",
            "      \"raised_exception\": true\n",
            "    }\n",
            "  }\n",
            "}\n"
          ]
        }
      ]
    },
    {
      "cell_type": "markdown",
      "source": [
        "### Expectation 3"
      ],
      "metadata": {
        "id": "JEJ28eyoYfra"
      }
    },
    {
      "cell_type": "code",
      "source": [
        "\n",
        "\n",
        "expectation3 = gx.expectations.ExpectColumnValuesToBeUnique(\n",
        "    column=\"filename\"\n",
        ")"
      ],
      "metadata": {
        "id": "tWFlN_hqYfkC"
      },
      "execution_count": 27,
      "outputs": []
    },
    {
      "cell_type": "markdown",
      "source": [
        "### Validate Data Against Expectation 3"
      ],
      "metadata": {
        "id": "D9rzavkK8mqM"
      }
    },
    {
      "cell_type": "code",
      "source": [
        "\n",
        "\n",
        "result3 = batch.validate(expectation3)\n",
        "print(result3)"
      ],
      "metadata": {
        "id": "xGed5qns8om2",
        "colab": {
          "base_uri": "https://localhost:8080/",
          "height": 503,
          "referenced_widgets": [
            "0e0cb89c9f3f43d98ab0e3521769bbb7",
            "57c125b9d3e64c40b65657eb8cfb2987",
            "b0275bce4677421bab9f13f4047e48df",
            "217bc43715e349ae88bfab14b37530c8",
            "0896b41e1e6d454ab748dbc75f14bd32",
            "4c5803f3bbef409bb41d49cd57dd8ad1",
            "994fcacd0a1b4b428ea1d9fcfb819a2e",
            "2199d684f47d44fdb5cf30968597b8b9",
            "5bc5dc951e5640f1a2e8acef6ff6a966",
            "644da679fabe4b8595cf54b71c4fc2a4",
            "1933ccf64bcb4951a5499bce221a79ee"
          ]
        },
        "outputId": "794b0af3-ae36-4d17-c5dc-8df4e28aae4d"
      },
      "execution_count": 28,
      "outputs": [
        {
          "output_type": "display_data",
          "data": {
            "text/plain": [
              "Calculating Metrics:   0%|          | 0/10 [00:00<?, ?it/s]"
            ],
            "application/vnd.jupyter.widget-view+json": {
              "version_major": 2,
              "version_minor": 0,
              "model_id": "0e0cb89c9f3f43d98ab0e3521769bbb7"
            }
          },
          "metadata": {}
        },
        {
          "output_type": "stream",
          "name": "stdout",
          "text": [
            "{\n",
            "  \"success\": false,\n",
            "  \"expectation_config\": {\n",
            "    \"type\": \"expect_column_values_to_be_unique\",\n",
            "    \"kwargs\": {\n",
            "      \"column\": \"filename\",\n",
            "      \"batch_id\": \"pandas-labels_asset\"\n",
            "    },\n",
            "    \"meta\": {}\n",
            "  },\n",
            "  \"result\": {},\n",
            "  \"meta\": {},\n",
            "  \"exception_info\": {\n",
            "    \"MetricConfigurationID(metric_name='column_values.unique.condition', metric_domain_kwargs_id='bb28fd93dc8072f7ec5aea209b8bdabb', metric_value_kwargs_id=())\": {\n",
            "      \"exception_traceback\": \"Traceback (most recent call last):\\n  File \\\"/usr/local/lib/python3.11/dist-packages/great_expectations/execution_engine/execution_engine.py\\\", line 534, in _process_direct_and_bundled_metric_computation_configurations\\n    metric_computation_configuration.metric_fn(  # type: ignore[misc] # F not callable\\n  File \\\"/usr/local/lib/python3.11/dist-packages/great_expectations/expectations/metrics/metric_provider.py\\\", line 99, in inner_func\\n    return metric_fn(*args, **kwargs)\\n           ^^^^^^^^^^^^^^^^^^^^^^^^^^\\n  File \\\"/usr/local/lib/python3.11/dist-packages/great_expectations/expectations/metrics/map_metric_provider/column_condition_partial.py\\\", line 92, in inner_func\\n    metric_domain_kwargs = get_dbms_compatible_metric_domain_kwargs(\\n                           ^^^^^^^^^^^^^^^^^^^^^^^^^^^^^^^^^^^^^^^^^\\n  File \\\"/usr/local/lib/python3.11/dist-packages/great_expectations/expectations/metrics/util.py\\\", line 685, in get_dbms_compatible_metric_domain_kwargs\\n    column_name: str | sqlalchemy.quoted_name = get_dbms_compatible_column_names(\\n                                                ^^^^^^^^^^^^^^^^^^^^^^^^^^^^^^^^^\\n  File \\\"/usr/local/lib/python3.11/dist-packages/great_expectations/expectations/metrics/util.py\\\", line 755, in get_dbms_compatible_column_names\\n    _verify_column_names_exist_and_get_normalized_typed_column_names_map(\\n  File \\\"/usr/local/lib/python3.11/dist-packages/great_expectations/expectations/metrics/util.py\\\", line 840, in _verify_column_names_exist_and_get_normalized_typed_column_names_map\\n    raise gx_exceptions.InvalidMetricAccessorDomainKwargsKeyError(\\ngreat_expectations.exceptions.exceptions.InvalidMetricAccessorDomainKwargsKeyError: Error: The column \\\"filename\\\" in BatchData does not exist.\\n\\nThe above exception was the direct cause of the following exception:\\n\\nTraceback (most recent call last):\\n  File \\\"/usr/local/lib/python3.11/dist-packages/great_expectations/validator/validation_graph.py\\\", line 296, in _resolve\\n    self._execution_engine.resolve_metrics(\\n  File \\\"/usr/local/lib/python3.11/dist-packages/great_expectations/execution_engine/execution_engine.py\\\", line 280, in resolve_metrics\\n    return self._process_direct_and_bundled_metric_computation_configurations(\\n           ^^^^^^^^^^^^^^^^^^^^^^^^^^^^^^^^^^^^^^^^^^^^^^^^^^^^^^^^^^^^^^^^^^^\\n  File \\\"/usr/local/lib/python3.11/dist-packages/great_expectations/execution_engine/execution_engine.py\\\", line 539, in _process_direct_and_bundled_metric_computation_configurations\\n    raise gx_exceptions.MetricResolutionError(\\ngreat_expectations.exceptions.exceptions.MetricResolutionError: Error: The column \\\"filename\\\" in BatchData does not exist.\\n\",\n",
            "      \"exception_message\": \"Error: The column \\\"filename\\\" in BatchData does not exist.\",\n",
            "      \"raised_exception\": true\n",
            "    },\n",
            "    \"MetricConfigurationID(metric_name='column_values.nonnull.condition', metric_domain_kwargs_id='bb28fd93dc8072f7ec5aea209b8bdabb', metric_value_kwargs_id=())\": {\n",
            "      \"exception_traceback\": \"Traceback (most recent call last):\\n  File \\\"/usr/local/lib/python3.11/dist-packages/great_expectations/execution_engine/execution_engine.py\\\", line 534, in _process_direct_and_bundled_metric_computation_configurations\\n    metric_computation_configuration.metric_fn(  # type: ignore[misc] # F not callable\\n  File \\\"/usr/local/lib/python3.11/dist-packages/great_expectations/expectations/metrics/metric_provider.py\\\", line 99, in inner_func\\n    return metric_fn(*args, **kwargs)\\n           ^^^^^^^^^^^^^^^^^^^^^^^^^^\\n  File \\\"/usr/local/lib/python3.11/dist-packages/great_expectations/expectations/metrics/map_metric_provider/column_condition_partial.py\\\", line 92, in inner_func\\n    metric_domain_kwargs = get_dbms_compatible_metric_domain_kwargs(\\n                           ^^^^^^^^^^^^^^^^^^^^^^^^^^^^^^^^^^^^^^^^^\\n  File \\\"/usr/local/lib/python3.11/dist-packages/great_expectations/expectations/metrics/util.py\\\", line 685, in get_dbms_compatible_metric_domain_kwargs\\n    column_name: str | sqlalchemy.quoted_name = get_dbms_compatible_column_names(\\n                                                ^^^^^^^^^^^^^^^^^^^^^^^^^^^^^^^^^\\n  File \\\"/usr/local/lib/python3.11/dist-packages/great_expectations/expectations/metrics/util.py\\\", line 755, in get_dbms_compatible_column_names\\n    _verify_column_names_exist_and_get_normalized_typed_column_names_map(\\n  File \\\"/usr/local/lib/python3.11/dist-packages/great_expectations/expectations/metrics/util.py\\\", line 840, in _verify_column_names_exist_and_get_normalized_typed_column_names_map\\n    raise gx_exceptions.InvalidMetricAccessorDomainKwargsKeyError(\\ngreat_expectations.exceptions.exceptions.InvalidMetricAccessorDomainKwargsKeyError: Error: The column \\\"filename\\\" in BatchData does not exist.\\n\\nThe above exception was the direct cause of the following exception:\\n\\nTraceback (most recent call last):\\n  File \\\"/usr/local/lib/python3.11/dist-packages/great_expectations/validator/validation_graph.py\\\", line 296, in _resolve\\n    self._execution_engine.resolve_metrics(\\n  File \\\"/usr/local/lib/python3.11/dist-packages/great_expectations/execution_engine/execution_engine.py\\\", line 280, in resolve_metrics\\n    return self._process_direct_and_bundled_metric_computation_configurations(\\n           ^^^^^^^^^^^^^^^^^^^^^^^^^^^^^^^^^^^^^^^^^^^^^^^^^^^^^^^^^^^^^^^^^^^\\n  File \\\"/usr/local/lib/python3.11/dist-packages/great_expectations/execution_engine/execution_engine.py\\\", line 539, in _process_direct_and_bundled_metric_computation_configurations\\n    raise gx_exceptions.MetricResolutionError(\\ngreat_expectations.exceptions.exceptions.MetricResolutionError: Error: The column \\\"filename\\\" in BatchData does not exist.\\n\",\n",
            "      \"exception_message\": \"Error: The column \\\"filename\\\" in BatchData does not exist.\",\n",
            "      \"raised_exception\": true\n",
            "    }\n",
            "  }\n",
            "}\n"
          ]
        }
      ]
    }
  ]
}